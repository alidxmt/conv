{
 "cells": [
  {
   "cell_type": "markdown",
   "id": "87e0905c",
   "metadata": {},
   "source": [
    "# API to get nutrition facts\n",
    "**Idea**\n",
    "<br>\n",
    "* Predict food categories from images\n",
    "* Clean the categories --> data cleaning like done for NLP\n",
    "* Put cleaned categories in list\n",
    "* for each category, call API to ouptut nutrition fact of each cat."
   ]
  },
  {
   "cell_type": "markdown",
   "id": "28366101",
   "metadata": {
    "heading_collapsed": true
   },
   "source": [
    "## Import packages"
   ]
  },
  {
   "cell_type": "code",
   "execution_count": 3,
   "id": "3fbea8da",
   "metadata": {
    "hidden": true
   },
   "outputs": [
    {
     "name": "stdout",
     "output_type": "stream",
     "text": [
      "Collecting nltk\n",
      "  Downloading nltk-3.7-py3-none-any.whl (1.5 MB)\n",
      "\u001b[2K     \u001b[90m━━━━━━━━━━━━━━━━━━━━━━━━━━━━━━━━━━━━━━━━\u001b[0m \u001b[32m1.5/1.5 MB\u001b[0m \u001b[31m5.1 MB/s\u001b[0m eta \u001b[36m0:00:00\u001b[0m00:01\u001b[0m00:01\u001b[0m\n",
      "\u001b[?25hRequirement already satisfied: joblib in /Users/tim/.pyenv/versions/3.8.12/envs/foodyai/lib/python3.8/site-packages (from nltk) (1.2.0)\n",
      "Collecting click\n",
      "  Using cached click-8.1.3-py3-none-any.whl (96 kB)\n",
      "Collecting tqdm\n",
      "  Downloading tqdm-4.64.1-py2.py3-none-any.whl (78 kB)\n",
      "\u001b[2K     \u001b[90m━━━━━━━━━━━━━━━━━━━━━━━━━━━━━━━━━━━━━━━━\u001b[0m \u001b[32m78.5/78.5 kB\u001b[0m \u001b[31m2.8 MB/s\u001b[0m eta \u001b[36m0:00:00\u001b[0m\n",
      "\u001b[?25hCollecting regex>=2021.8.3\n",
      "  Downloading regex-2022.10.31-cp38-cp38-macosx_10_9_x86_64.whl (294 kB)\n",
      "\u001b[2K     \u001b[90m━━━━━━━━━━━━━━━━━━━━━━━━━━━━━━━━━━━━━━━\u001b[0m \u001b[32m294.0/294.0 kB\u001b[0m \u001b[31m4.1 MB/s\u001b[0m eta \u001b[36m0:00:00\u001b[0ma \u001b[36m0:00:01\u001b[0m\n",
      "\u001b[?25hInstalling collected packages: tqdm, regex, click, nltk\n",
      "Successfully installed click-8.1.3 nltk-3.7 regex-2022.10.31 tqdm-4.64.1\n",
      "Note: you may need to restart the kernel to use updated packages.\n"
     ]
    }
   ],
   "source": [
    "#uncomment if installation is needed. Don't forget to comment after download\n",
    "#pip install nltk "
   ]
  },
  {
   "cell_type": "code",
   "execution_count": 4,
   "id": "6391ce3e",
   "metadata": {
    "hidden": true
   },
   "outputs": [],
   "source": [
    "import string\n",
    "from nltk.corpus import stopwords \n",
    "from nltk import word_tokenize\n",
    "from nltk.stem import WordNetLemmatizer as wnl"
   ]
  },
  {
   "cell_type": "markdown",
   "id": "584b74f8",
   "metadata": {},
   "source": [
    "## Clean categories"
   ]
  },
  {
   "cell_type": "code",
   "execution_count": 1,
   "id": "901646a5",
   "metadata": {},
   "outputs": [],
   "source": [
    "def preprocessing(sentence):\n",
    "    '''\n",
    "    clean each sentence in the column reviews for our dataframe \"data\"\n",
    "    remove whitespaces, lowercase characers, remove numbers, remove punctuation ,tokenize, lemmatize\n",
    "    '''\n",
    "    \n",
    "    sentence = sentence.strip() #remove whitespaces\n",
    "    sentence = sentence.lower() # lower chara\n",
    "    sentence = ''.join(char for char in sentence if not char.isdigit()) # remove numbers\n",
    "    \n",
    "    for punctuation in string.punctuation:\n",
    "        sentence = sentence.replace(punctuation, '') # remove punctuation\n",
    "        \n",
    "    tokenized_sentence = word_tokenize(sentence) # tokenize sentence\n",
    "    stop_words = set(stopwords.words('english')) # define stopwords\n",
    "    \n",
    "    tokenized_sentence_cleaned = [w for w in tokenized_sentence if not w in stop_words] # remove stopwords\n",
    "    \n",
    "    verb_lemmatized = [wnl().lemmatize(word, pos = \"v\") for word in tokenized_sentence_cleaned] # lemmatize for verbs\n",
    "    lemmatized = [wnl().lemmatize(word, pos = \"n\") for word in verb_lemmatized] # lemmatize for nouns on top of lemmatize for verbs\n",
    "    \n",
    "    sentence = ' '.join(lemmatized)\n",
    "    \n",
    "    return sentence"
   ]
  },
  {
   "cell_type": "markdown",
   "id": "45647f99",
   "metadata": {},
   "source": [
    "### Test cleaning"
   ]
  },
  {
   "cell_type": "code",
   "execution_count": 5,
   "id": "33381648",
   "metadata": {},
   "outputs": [],
   "source": [
    "sentence = 'Mashed potatoes, prepared, with full fat milk, with butter'"
   ]
  },
  {
   "cell_type": "code",
   "execution_count": 19,
   "id": "ce600c6e",
   "metadata": {},
   "outputs": [],
   "source": [
    "clean = preprocessing(sentence)"
   ]
  },
  {
   "cell_type": "code",
   "execution_count": 20,
   "id": "0b0523bd",
   "metadata": {},
   "outputs": [
    {
     "data": {
      "text/plain": [
       "'mash potato prepare full fat milk butter'"
      ]
     },
     "execution_count": 20,
     "metadata": {},
     "output_type": "execute_result"
    }
   ],
   "source": [
    "clean"
   ]
  },
  {
   "cell_type": "markdown",
   "id": "a936adf2",
   "metadata": {},
   "source": [
    "## API"
   ]
  },
  {
   "cell_type": "code",
   "execution_count": 8,
   "id": "b1b43891",
   "metadata": {},
   "outputs": [],
   "source": [
    "import requests"
   ]
  },
  {
   "cell_type": "code",
   "execution_count": 24,
   "id": "414c84be",
   "metadata": {},
   "outputs": [
    {
     "name": "stdout",
     "output_type": "stream",
     "text": [
      "{\"recipesUsed\":25,\"calories\":{\"value\":313.0,\"unit\":\"calories\",\"confidenceRange95Percent\":{\"min\":270.68,\"max\":395.44},\"standardDeviation\":159.13},\"fat\":{\"value\":17.0,\"unit\":\"g\",\"confidenceRange95Percent\":{\"min\":13.95,\"max\":21.85},\"standardDeviation\":10.07},\"protein\":{\"value\":7.0,\"unit\":\"g\",\"confidenceRange95Percent\":{\"min\":5.67,\"max\":11.17},\"standardDeviation\":7.0},\"carbs\":{\"value\":33.0,\"unit\":\"g\",\"confidenceRange95Percent\":{\"min\":30.59,\"max\":42.06},\"standardDeviation\":14.63}}\n"
     ]
    }
   ],
   "source": [
    "url = \"https://spoonacular-recipe-food-nutrition-v1.p.rapidapi.com/recipes/guessNutrition\"\n",
    "\n",
    "querystring = {\"title\":\"mash potato\"}\n",
    "\n",
    "headers = {\n",
    "    \"X-RapidAPI-Key\": \"xxx\",\n",
    "    \"X-RapidAPI-Host\": \"spoonacular-recipe-food-nutrition-v1.p.rapidapi.com\"\n",
    "}\n",
    "\n",
    "response = requests.request(\"GET\", url, headers=headers, params=querystring)\n",
    "\n",
    "print(response.text)"
   ]
  },
  {
   "cell_type": "code",
   "execution_count": 36,
   "id": "6c24faaa",
   "metadata": {},
   "outputs": [],
   "source": [
    "nutrition=response.json()"
   ]
  },
  {
   "cell_type": "code",
   "execution_count": 37,
   "id": "430f5330",
   "metadata": {},
   "outputs": [
    {
     "data": {
      "text/plain": [
       "{'value': 313.0,\n",
       " 'unit': 'calories',\n",
       " 'confidenceRange95Percent': {'min': 270.68, 'max': 395.44},\n",
       " 'standardDeviation': 159.13}"
      ]
     },
     "execution_count": 37,
     "metadata": {},
     "output_type": "execute_result"
    }
   ],
   "source": [
    "nutrition['calories']"
   ]
  },
  {
   "cell_type": "code",
   "execution_count": null,
   "id": "430150e3",
   "metadata": {},
   "outputs": [],
   "source": []
  }
 ],
 "metadata": {
  "kernelspec": {
   "display_name": "Python 3 (ipykernel)",
   "language": "python",
   "name": "python3"
  },
  "language_info": {
   "codemirror_mode": {
    "name": "ipython",
    "version": 3
   },
   "file_extension": ".py",
   "mimetype": "text/x-python",
   "name": "python",
   "nbconvert_exporter": "python",
   "pygments_lexer": "ipython3",
   "version": "3.8.12"
  },
  "toc": {
   "base_numbering": 1,
   "nav_menu": {},
   "number_sections": true,
   "sideBar": true,
   "skip_h1_title": false,
   "title_cell": "Table of Contents",
   "title_sidebar": "Contents",
   "toc_cell": false,
   "toc_position": {
    "height": "calc(100% - 180px)",
    "left": "10px",
    "top": "150px",
    "width": "195px"
   },
   "toc_section_display": true,
   "toc_window_display": true
  }
 },
 "nbformat": 4,
 "nbformat_minor": 5
}
