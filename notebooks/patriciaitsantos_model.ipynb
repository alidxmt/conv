{
 "cells": [
  {
   "cell_type": "markdown",
   "metadata": {
    "id": "_f8gjaY9gVvi"
   },
   "source": [
    "# Testing the model"
   ]
  },
  {
   "cell_type": "markdown",
   "metadata": {
    "id": "-kevkA71gczD"
   },
   "source": [
    "## Install and imports"
   ]
  },
  {
   "cell_type": "markdown",
   "metadata": {},
   "source": [
    "### 1.1 Mount GCP bucket in Google Colab"
   ]
  },
  {
   "cell_type": "code",
   "execution_count": null,
   "metadata": {},
   "outputs": [],
   "source": [
    "from google.colab import auth\n",
    "auth.authenticate_user()"
   ]
  },
  {
   "cell_type": "code",
   "execution_count": null,
   "metadata": {},
   "outputs": [],
   "source": [
    "!echo \"deb http://packages.cloud.google.com/apt gcsfuse-bionic main\" > /etc/apt/sources.list.d/gcsfuse.list\n",
    "!curl https://packages.cloud.google.com/apt/doc/apt-key.gpg | apt-key add -\n",
    "!apt -qq update\n",
    "!apt -qq install gcsfuse"
   ]
  },
  {
   "cell_type": "code",
   "execution_count": null,
   "metadata": {},
   "outputs": [],
   "source": [
    "!mkdir colab_directory"
   ]
  },
  {
   "cell_type": "code",
   "execution_count": null,
   "metadata": {},
   "outputs": [],
   "source": [
    "!gcsfuse --implicit-dirs foodygs colab_directory"
   ]
  },
  {
   "cell_type": "markdown",
   "metadata": {},
   "source": [
    "### 1.2 Install Detectron2"
   ]
  },
  {
   "cell_type": "code",
   "execution_count": null,
   "metadata": {},
   "outputs": [],
   "source": [
    "# Requirements\n",
    "\n",
    "#pip3 install torch torchvision torchaudio --extra-index-url https://download.pytorch.org/whl/cu116\n",
    "\n",
    "!pip install -U torch==1.9.0+cu111 torchvision==0.10.0+cu111 -f https://download.pytorch.org/whl/torch_stable.html\n",
    "#-f https://download.pytorch.org/whl/torch_stable.html\n",
    "#torch==1.9.0+cu111\n",
    "#torchvision==0.10.0+cu111\n",
    "\n",
    "!pip install cython pyyaml==5.1\n",
    "!pip install -U pycocotools\n",
    "\n",
    "#cython\n",
    "\n",
    "#pyyaml==5.1\n",
    "\n",
    "#pycocotools"
   ]
  },
  {
   "cell_type": "code",
   "execution_count": null,
   "metadata": {
    "id": "cPLBypcsf2vH"
   },
   "outputs": [],
   "source": [
    "# This is what is required to run on Google Colab. In the local machine, it is required to install torch and cuda.\n",
    "!python -m pip install 'git+https://github.com/facebookresearch/detectron2.git'"
   ]
  },
  {
   "cell_type": "code",
   "execution_count": null,
   "metadata": {
    "colab": {
     "base_uri": "https://localhost:8080/"
    },
    "executionInfo": {
     "elapsed": 1104,
     "status": "ok",
     "timestamp": 1668865131666,
     "user": {
      "displayName": "Patrícia dos Santos",
      "userId": "07535366281531712325"
     },
     "user_tz": -60
    },
    "id": "HTFP6gDfh5Um",
    "outputId": "30782846-e6bd-4c16-b9c7-6eb9859ece46"
   },
   "outputs": [],
   "source": [
    "# For setup.py\n",
    "\n",
    "import torch, detectron2\n",
    "!nvcc --version\n",
    "TORCH_VERSION = \".\".join(torch.__version__.split(\".\")[:2])\n",
    "CUDA_VERSION = torch.__version__.split(\"+\")[-1]\n",
    "print(\"torch: \", TORCH_VERSION, \"; cuda: \", CUDA_VERSION)\n",
    "print(\"detectron2:\", detectron2.__version__)"
   ]
  },
  {
   "cell_type": "markdown",
   "metadata": {},
   "source": [
    "### 1.3 Imports"
   ]
  },
  {
   "cell_type": "code",
   "execution_count": null,
   "metadata": {
    "executionInfo": {
     "elapsed": 1295,
     "status": "ok",
     "timestamp": 1668865135469,
     "user": {
      "displayName": "Patrícia dos Santos",
      "userId": "07535366281531712325"
     },
     "user_tz": -60
    },
    "id": "JBSydiY-iG_r"
   },
   "outputs": [],
   "source": [
    "# Some basic setup:\n",
    "# Setup detectron2 logger\n",
    "import detectron2\n",
    "from detectron2.utils.logger import setup_logger\n",
    "setup_logger()\n",
    "\n",
    "# import some common libraries\n",
    "import numpy as np\n",
    "import pandas as pd\n",
    "import os, json, cv2, random\n",
    "#from google.colab.patches import cv2_imshow  #Only needed for Colab\n",
    "\n",
    "# import some common detectron2 utilities\n",
    "from detectron2 import model_zoo\n",
    "from detectron2.engine import DefaultPredictor\n",
    "from detectron2.config import get_cfg\n",
    "from detectron2.utils.visualizer import Visualizer\n",
    "from detectron2.data import MetadataCatalog, DatasetCatalog\n",
    "\n",
    "# For reading annotations file\n",
    "from pycocotools.coco import COCO"
   ]
  },
  {
   "cell_type": "markdown",
   "metadata": {
    "id": "QQ0lbfv3iK4e"
   },
   "source": [
    "## 2. Load data\n",
    "\n",
    "Data is not resized"
   ]
  },
  {
   "cell_type": "code",
   "execution_count": null,
   "metadata": {},
   "outputs": [],
   "source": [
    "import os\n",
    "\n",
    "# os.chdir allows you to change directories, like cd in the Terminal\n",
    "os.chdir('/content/colab_directory/foodyai_data')"
   ]
  },
  {
   "cell_type": "code",
   "execution_count": null,
   "metadata": {
    "colab": {
     "base_uri": "https://localhost:8080/",
     "height": 339
    },
    "executionInfo": {
     "elapsed": 529,
     "status": "error",
     "timestamp": 1668866485840,
     "user": {
      "displayName": "Patrícia dos Santos",
      "userId": "07535366281531712325"
     },
     "user_tz": -60
    },
    "id": "P5xYdmKriO1e",
    "outputId": "6426fa5f-471a-4b0f-bada-d5c9d0c57846"
   },
   "outputs": [],
   "source": [
    "# Loading the datasets in coco format and registering them as instances\n",
    "\n",
    "train_annotations_path = 'Training_2/annotations.json' \n",
    "train_images_path = 'Training_2/images'\n",
    "\n",
    "val_annotations_path = 'Validation_2/annotations.json'\n",
    "val_images_path = 'Validation_2/images'\n",
    "\n",
    "train_coco = COCO(train_annotations_path)"
   ]
  },
  {
   "cell_type": "code",
   "execution_count": null,
   "metadata": {
    "executionInfo": {
     "elapsed": 522,
     "status": "ok",
     "timestamp": 1668865143433,
     "user": {
      "displayName": "Patrícia dos Santos",
      "userId": "07535366281531712325"
     },
     "user_tz": -60
    },
    "id": "S00yyLYVkA24"
   },
   "outputs": [],
   "source": [
    "from detectron2.data.datasets import register_coco_instances\n",
    "\n",
    "register_coco_instances(\"training_dataset\", {},train_annotations_path, train_images_path)\n",
    "register_coco_instances(\"validation_dataset\", {},val_annotations_path, val_images_path)"
   ]
  },
  {
   "cell_type": "markdown",
   "metadata": {
    "id": "qFDgP-waE9oy"
   },
   "source": [
    "## 3. Train model"
   ]
  },
  {
   "cell_type": "code",
   "execution_count": null,
   "metadata": {
    "executionInfo": {
     "elapsed": 420,
     "status": "ok",
     "timestamp": 1668865154209,
     "user": {
      "displayName": "Patrícia dos Santos",
      "userId": "07535366281531712325"
     },
     "user_tz": -60
    },
    "id": "GQjIoqd9j5UO"
   },
   "outputs": [],
   "source": [
    "from detectron2.engine import DefaultTrainer\n",
    "\n",
    "cfg = get_cfg()\n",
    "# Check the model zoo and use any of the models ( from detectron2 github repo)\n",
    "cfg.merge_from_file(model_zoo.get_config_file(\"COCO-InstanceSegmentation/mask_rcnn_R_50_FPN_3x.yaml\"))\n",
    "\n",
    "\n",
    "cfg.DATASETS.TRAIN = (\"training_dataset\",)\n",
    "cfg.DATASETS.TEST = ()\n",
    "\n",
    "cfg.DATALOADER.NUM_WORKERS = 2\n",
    "# Loading pre trained weights\n",
    "cfg.MODEL.WEIGHTS = model_zoo.get_checkpoint_url(\"COCO-InstanceSegmentation/mask_rcnn_R_50_FPN_3x.yaml\")  # Let training initialize from model zoo"
   ]
  },
  {
   "cell_type": "markdown",
   "metadata": {
    "id": "j5VnojyZFrqf"
   },
   "source": [
    "### 3.1 Hyperparameters"
   ]
  },
  {
   "cell_type": "code",
   "execution_count": null,
   "metadata": {
    "executionInfo": {
     "elapsed": 423,
     "status": "ok",
     "timestamp": 1668865159689,
     "user": {
      "displayName": "Patrícia dos Santos",
      "userId": "07535366281531712325"
     },
     "user_tz": -60
    },
    "id": "9aFErpfvFzmo"
   },
   "outputs": [],
   "source": [
    "# No. of Batchs\n",
    "cfg.SOLVER.IMS_PER_BATCH = 10   # This is the real \"batch size\" commonly known to deep learning people\n",
    "\n",
    "# Learning Rate: \n",
    "cfg.SOLVER.BASE_LR = 0.0025  # pick a good LR\n",
    "\n",
    "# No of Interations\n",
    "cfg.SOLVER.MAX_ITER = 50001 # Try with less to start with\n",
    "\n",
    "# Images per batch (Batch Size) \n",
    "cfg.MODEL.ROI_HEADS.BATCH_SIZE_PER_IMAGE = 128   \n",
    "\n",
    "# No of Categories(Classes) present\n",
    "cfg.MODEL.ROI_HEADS.NUM_CLASSES = 323\n",
    "\n",
    "cfg.OUTPUT_DIR = \"logs/\"\n",
    "os.makedirs(cfg.OUTPUT_DIR, exist_ok=True)"
   ]
  },
  {
   "cell_type": "code",
   "execution_count": null,
   "metadata": {
    "colab": {
     "base_uri": "https://localhost:8080/",
     "height": 1000
    },
    "executionInfo": {
     "elapsed": 5505,
     "status": "error",
     "timestamp": 1668865168914,
     "user": {
      "displayName": "Patrícia dos Santos",
      "userId": "07535366281531712325"
     },
     "user_tz": -60
    },
    "id": "tYd4fBGiFQtG",
    "outputId": "93614ccf-1172-4fdd-d215-16d44e195c91"
   },
   "outputs": [],
   "source": [
    "trainer = DefaultTrainer(cfg) \n",
    "trainer.resume_or_load(resume=False)"
   ]
  },
  {
   "cell_type": "code",
   "execution_count": null,
   "metadata": {},
   "outputs": [],
   "source": [
    "trainer.train()"
   ]
  },
  {
   "cell_type": "markdown",
   "metadata": {},
   "source": [
    "## 4. Evaluate model"
   ]
  },
  {
   "cell_type": "code",
   "execution_count": null,
   "metadata": {},
   "outputs": [],
   "source": [
    "cfg.MODEL.WEIGHTS = os.path.join(cfg.OUTPUT_DIR, \"model_final.pth\") # path to the model we just trained\n",
    "cfg.MODEL.ROI_HEADS.SCORE_THRESH_TEST = 0.01 # set a custom testing threshold\n",
    "cfg.MODEL.ROI_HEADS.NUM_CLASSES = 323\n",
    "\n",
    "cfg.DATASETS.TEST = (\"validation_dataset\", )\n",
    "predictor = DefaultPredictor(cfg)"
   ]
  },
  {
   "cell_type": "markdown",
   "metadata": {},
   "source": [
    "We can also evaluate its performance using AP metric implemented in COCO API."
   ]
  },
  {
   "cell_type": "code",
   "execution_count": null,
   "metadata": {},
   "outputs": [],
   "source": [
    "from detectron2.evaluation import COCOEvaluator, inference_on_dataset\n",
    "from detectron2.data import build_detection_test_loader\n",
    "\n",
    "evaluator = COCOEvaluator(\"validation_dataset\", output_dir=\"./output\")\n",
    "val_loader = build_detection_test_loader(cfg, \"validation_dataset\")\n",
    "print(inference_on_dataset(predictor.model, val_loader, evaluator))"
   ]
  }
 ],
 "metadata": {
  "accelerator": "GPU",
  "colab": {
   "provenance": []
  },
  "gpuClass": "standard",
  "kernelspec": {
   "display_name": "Python 3 (ipykernel)",
   "language": "python",
   "name": "python3"
  },
  "language_info": {
   "codemirror_mode": {
    "name": "ipython",
    "version": 3
   },
   "file_extension": ".py",
   "mimetype": "text/x-python",
   "name": "python",
   "nbconvert_exporter": "python",
   "pygments_lexer": "ipython3",
   "version": "3.8.12"
  },
  "toc": {
   "base_numbering": 1,
   "nav_menu": {},
   "number_sections": true,
   "sideBar": true,
   "skip_h1_title": false,
   "title_cell": "Table of Contents",
   "title_sidebar": "Contents",
   "toc_cell": false,
   "toc_position": {},
   "toc_section_display": true,
   "toc_window_display": false
  },
  "vscode": {
   "interpreter": {
    "hash": "80f566c357a82dda14b766baaec649c9ac58a31fe19e1dcfb16f33b8afb8d697"
   }
  }
 },
 "nbformat": 4,
 "nbformat_minor": 1
}
