{
 "cells": [
  {
   "cell_type": "markdown",
   "id": "53709647",
   "metadata": {},
   "source": [
    "# Create Nutrition dataset\n",
    "This dataset will be used to retrieve nutrition information for food category"
   ]
  },
  {
   "cell_type": "code",
   "execution_count": 1,
   "id": "49638698",
   "metadata": {},
   "outputs": [],
   "source": [
    "#uncomment if google cloud is not installed\n",
    "\n",
    "#import sys\n",
    "#!{sys.executable} -m pip install google-cloud-storage"
   ]
  },
  {
   "cell_type": "code",
   "execution_count": 2,
   "id": "a132c0d0",
   "metadata": {},
   "outputs": [],
   "source": [
    "from google.cloud import storage\n",
    "import pandas as pd\n",
    "import json\n",
    "import numpy as np"
   ]
  },
  {
   "cell_type": "markdown",
   "id": "1ce88a2f",
   "metadata": {},
   "source": [
    "## Retrieve data from Google cloud"
   ]
  },
  {
   "cell_type": "code",
   "execution_count": 3,
   "id": "6df79b4b",
   "metadata": {},
   "outputs": [],
   "source": [
    "BUCKET_NAME = 'foodygs'\n",
    "client = storage.Client()\n",
    "bucket = client.bucket(BUCKET_NAME)"
   ]
  },
  {
   "cell_type": "markdown",
   "id": "e8fa145a",
   "metadata": {},
   "source": [
    "Get the csv files from the Google Cloud storage"
   ]
  },
  {
   "cell_type": "code",
   "execution_count": 4,
   "id": "c8c9d106",
   "metadata": {},
   "outputs": [],
   "source": [
    "my_prefix = \"Nutrition/\" # the name of the subfolder\n",
    "\n",
    "def get_nutrition(my_prefix:str):\n",
    "    \"\"\"\n",
    "    download all the files from google cloud storage to raw_data locally\n",
    "    \"\"\"\n",
    "blobs = bucket.list_blobs(prefix = my_prefix, delimiter = '/')\n",
    "\n",
    "for blob in blobs:\n",
    "    if(blob.name != my_prefix): # ignoring the subfolder itself \n",
    "        file_name = '{}/{}'.format('../raw_data', blob.name.replace(my_prefix, \"\"))\n",
    "        blob.download_to_filename(file_name)"
   ]
  },
  {
   "cell_type": "markdown",
   "id": "ab4bf04e",
   "metadata": {},
   "source": [
    "Get the JSON file from the Google Cloud storage"
   ]
  },
  {
   "cell_type": "code",
   "execution_count": 8,
   "id": "d5ecd8c5",
   "metadata": {},
   "outputs": [],
   "source": [
    "def json_train():\n",
    "    storage_filename_annot = 'foodyai_data/Training_1/annotations.json'\n",
    "    local_filename_annot = \"../raw_data/annotations.json\"\n",
    "\n",
    "    blob = bucket.blob(storage_filename_annot)\n",
    "    blob.download_to_filename(local_filename_annot)\n",
    "    \n",
    "    return local_filename_annot"
   ]
  },
  {
   "cell_type": "markdown",
   "id": "468826ae",
   "metadata": {},
   "source": [
    "## Create dataframe "
   ]
  },
  {
   "cell_type": "markdown",
   "id": "1bbe4021",
   "metadata": {},
   "source": [
    "### JSON file (annotations)"
   ]
  },
  {
   "cell_type": "code",
   "execution_count": 11,
   "id": "9577b266",
   "metadata": {},
   "outputs": [],
   "source": [
    "js = open(json_train())\n",
    "ds_annot = json.load(js)"
   ]
  },
  {
   "cell_type": "code",
   "execution_count": 12,
   "id": "794313fc",
   "metadata": {},
   "outputs": [],
   "source": [
    "df_cat = pd.DataFrame(ds_annot['categories'])"
   ]
  },
  {
   "cell_type": "code",
   "execution_count": 13,
   "id": "a448f1f4",
   "metadata": {},
   "outputs": [
    {
     "data": {
      "text/html": [
       "<div>\n",
       "<style scoped>\n",
       "    .dataframe tbody tr th:only-of-type {\n",
       "        vertical-align: middle;\n",
       "    }\n",
       "\n",
       "    .dataframe tbody tr th {\n",
       "        vertical-align: top;\n",
       "    }\n",
       "\n",
       "    .dataframe thead th {\n",
       "        text-align: right;\n",
       "    }\n",
       "</style>\n",
       "<table border=\"1\" class=\"dataframe\">\n",
       "  <thead>\n",
       "    <tr style=\"text-align: right;\">\n",
       "      <th></th>\n",
       "      <th>id</th>\n",
       "      <th>name</th>\n",
       "      <th>name_readable</th>\n",
       "      <th>supercategory</th>\n",
       "    </tr>\n",
       "  </thead>\n",
       "  <tbody>\n",
       "    <tr>\n",
       "      <th>0</th>\n",
       "      <td>1565</td>\n",
       "      <td>bread-wholemeal</td>\n",
       "      <td>Bread, wholemeal</td>\n",
       "      <td>food</td>\n",
       "    </tr>\n",
       "    <tr>\n",
       "      <th>1</th>\n",
       "      <td>2099</td>\n",
       "      <td>jam</td>\n",
       "      <td>Jam</td>\n",
       "      <td>food</td>\n",
       "    </tr>\n",
       "    <tr>\n",
       "      <th>2</th>\n",
       "      <td>2578</td>\n",
       "      <td>water</td>\n",
       "      <td>Water</td>\n",
       "      <td>food</td>\n",
       "    </tr>\n",
       "    <tr>\n",
       "      <th>3</th>\n",
       "      <td>1556</td>\n",
       "      <td>bread-sourdough</td>\n",
       "      <td>Bread, sourdough</td>\n",
       "      <td>food</td>\n",
       "    </tr>\n",
       "    <tr>\n",
       "      <th>4</th>\n",
       "      <td>1154</td>\n",
       "      <td>banana</td>\n",
       "      <td>Banana</td>\n",
       "      <td>food</td>\n",
       "    </tr>\n",
       "  </tbody>\n",
       "</table>\n",
       "</div>"
      ],
      "text/plain": [
       "     id             name     name_readable supercategory\n",
       "0  1565  bread-wholemeal  Bread, wholemeal          food\n",
       "1  2099              jam               Jam          food\n",
       "2  2578            water             Water          food\n",
       "3  1556  bread-sourdough  Bread, sourdough          food\n",
       "4  1154           banana            Banana          food"
      ]
     },
     "execution_count": 13,
     "metadata": {},
     "output_type": "execute_result"
    }
   ],
   "source": [
    "df_cat.head()"
   ]
  },
  {
   "cell_type": "markdown",
   "id": "908e3f55",
   "metadata": {},
   "source": [
    "### CSV file (nutritions)"
   ]
  },
  {
   "cell_type": "code",
   "execution_count": 83,
   "id": "2a6c9484",
   "metadata": {},
   "outputs": [
    {
     "name": "stderr",
     "output_type": "stream",
     "text": [
      "/var/folders/l8/1ywz9lnd5s52sw_40f2wy1sm0000gn/T/ipykernel_90930/342218390.py:3: DtypeWarning: Columns (0,3,5,19,20,24,25,26,27,28,36,37,38,39,48) have mixed types. Specify dtype option on import or set low_memory=False.\n",
      "  df_nut_3 = pd.read_table('../raw_data/nutrition3.tsv')\n"
     ]
    }
   ],
   "source": [
    "df_nut_1 = pd.read_csv('../raw_data/nutrition.csv')\n",
    "df_nut_2 = pd.read_csv('../raw_data/nutrition2.csv')\n",
    "df_nut_3 = pd.read_table('../raw_data/nutrition3.tsv')"
   ]
  },
  {
   "cell_type": "code",
   "execution_count": 85,
   "id": "f0642f54",
   "metadata": {},
   "outputs": [
    {
     "data": {
      "text/html": [
       "<div>\n",
       "<style scoped>\n",
       "    .dataframe tbody tr th:only-of-type {\n",
       "        vertical-align: middle;\n",
       "    }\n",
       "\n",
       "    .dataframe tbody tr th {\n",
       "        vertical-align: top;\n",
       "    }\n",
       "\n",
       "    .dataframe thead th {\n",
       "        text-align: right;\n",
       "    }\n",
       "</style>\n",
       "<table border=\"1\" class=\"dataframe\">\n",
       "  <thead>\n",
       "    <tr style=\"text-align: right;\">\n",
       "      <th></th>\n",
       "      <th>code</th>\n",
       "      <th>url</th>\n",
       "      <th>creator</th>\n",
       "      <th>created_t</th>\n",
       "      <th>created_datetime</th>\n",
       "      <th>last_modified_t</th>\n",
       "      <th>last_modified_datetime</th>\n",
       "      <th>product_name</th>\n",
       "      <th>generic_name</th>\n",
       "      <th>quantity</th>\n",
       "      <th>...</th>\n",
       "      <th>fruits-vegetables-nuts_100g</th>\n",
       "      <th>fruits-vegetables-nuts-estimate_100g</th>\n",
       "      <th>collagen-meat-protein-ratio_100g</th>\n",
       "      <th>cocoa_100g</th>\n",
       "      <th>chlorophyl_100g</th>\n",
       "      <th>carbon-footprint_100g</th>\n",
       "      <th>nutrition-score-fr_100g</th>\n",
       "      <th>nutrition-score-uk_100g</th>\n",
       "      <th>glycemic-index_100g</th>\n",
       "      <th>water-hardness_100g</th>\n",
       "    </tr>\n",
       "  </thead>\n",
       "  <tbody>\n",
       "    <tr>\n",
       "      <th>0</th>\n",
       "      <td>3087</td>\n",
       "      <td>http://world-en.openfoodfacts.org/product/0000...</td>\n",
       "      <td>openfoodfacts-contributors</td>\n",
       "      <td>1474103866</td>\n",
       "      <td>2016-09-17T09:17:46Z</td>\n",
       "      <td>1474103893</td>\n",
       "      <td>2016-09-17T09:18:13Z</td>\n",
       "      <td>Farine de blé noir</td>\n",
       "      <td>NaN</td>\n",
       "      <td>1kg</td>\n",
       "      <td>...</td>\n",
       "      <td>NaN</td>\n",
       "      <td>NaN</td>\n",
       "      <td>NaN</td>\n",
       "      <td>NaN</td>\n",
       "      <td>NaN</td>\n",
       "      <td>NaN</td>\n",
       "      <td>NaN</td>\n",
       "      <td>NaN</td>\n",
       "      <td>NaN</td>\n",
       "      <td>NaN</td>\n",
       "    </tr>\n",
       "    <tr>\n",
       "      <th>1</th>\n",
       "      <td>4530</td>\n",
       "      <td>http://world-en.openfoodfacts.org/product/0000...</td>\n",
       "      <td>usda-ndb-import</td>\n",
       "      <td>1489069957</td>\n",
       "      <td>2017-03-09T14:32:37Z</td>\n",
       "      <td>1489069957</td>\n",
       "      <td>2017-03-09T14:32:37Z</td>\n",
       "      <td>Banana Chips Sweetened (Whole)</td>\n",
       "      <td>NaN</td>\n",
       "      <td>NaN</td>\n",
       "      <td>...</td>\n",
       "      <td>NaN</td>\n",
       "      <td>NaN</td>\n",
       "      <td>NaN</td>\n",
       "      <td>NaN</td>\n",
       "      <td>NaN</td>\n",
       "      <td>NaN</td>\n",
       "      <td>14.0</td>\n",
       "      <td>14.0</td>\n",
       "      <td>NaN</td>\n",
       "      <td>NaN</td>\n",
       "    </tr>\n",
       "    <tr>\n",
       "      <th>2</th>\n",
       "      <td>4559</td>\n",
       "      <td>http://world-en.openfoodfacts.org/product/0000...</td>\n",
       "      <td>usda-ndb-import</td>\n",
       "      <td>1489069957</td>\n",
       "      <td>2017-03-09T14:32:37Z</td>\n",
       "      <td>1489069957</td>\n",
       "      <td>2017-03-09T14:32:37Z</td>\n",
       "      <td>Peanuts</td>\n",
       "      <td>NaN</td>\n",
       "      <td>NaN</td>\n",
       "      <td>...</td>\n",
       "      <td>NaN</td>\n",
       "      <td>NaN</td>\n",
       "      <td>NaN</td>\n",
       "      <td>NaN</td>\n",
       "      <td>NaN</td>\n",
       "      <td>NaN</td>\n",
       "      <td>0.0</td>\n",
       "      <td>0.0</td>\n",
       "      <td>NaN</td>\n",
       "      <td>NaN</td>\n",
       "    </tr>\n",
       "    <tr>\n",
       "      <th>3</th>\n",
       "      <td>16087</td>\n",
       "      <td>http://world-en.openfoodfacts.org/product/0000...</td>\n",
       "      <td>usda-ndb-import</td>\n",
       "      <td>1489055731</td>\n",
       "      <td>2017-03-09T10:35:31Z</td>\n",
       "      <td>1489055731</td>\n",
       "      <td>2017-03-09T10:35:31Z</td>\n",
       "      <td>Organic Salted Nut Mix</td>\n",
       "      <td>NaN</td>\n",
       "      <td>NaN</td>\n",
       "      <td>...</td>\n",
       "      <td>NaN</td>\n",
       "      <td>NaN</td>\n",
       "      <td>NaN</td>\n",
       "      <td>NaN</td>\n",
       "      <td>NaN</td>\n",
       "      <td>NaN</td>\n",
       "      <td>12.0</td>\n",
       "      <td>12.0</td>\n",
       "      <td>NaN</td>\n",
       "      <td>NaN</td>\n",
       "    </tr>\n",
       "    <tr>\n",
       "      <th>4</th>\n",
       "      <td>16094</td>\n",
       "      <td>http://world-en.openfoodfacts.org/product/0000...</td>\n",
       "      <td>usda-ndb-import</td>\n",
       "      <td>1489055653</td>\n",
       "      <td>2017-03-09T10:34:13Z</td>\n",
       "      <td>1489055653</td>\n",
       "      <td>2017-03-09T10:34:13Z</td>\n",
       "      <td>Organic Polenta</td>\n",
       "      <td>NaN</td>\n",
       "      <td>NaN</td>\n",
       "      <td>...</td>\n",
       "      <td>NaN</td>\n",
       "      <td>NaN</td>\n",
       "      <td>NaN</td>\n",
       "      <td>NaN</td>\n",
       "      <td>NaN</td>\n",
       "      <td>NaN</td>\n",
       "      <td>NaN</td>\n",
       "      <td>NaN</td>\n",
       "      <td>NaN</td>\n",
       "      <td>NaN</td>\n",
       "    </tr>\n",
       "  </tbody>\n",
       "</table>\n",
       "<p>5 rows × 163 columns</p>\n",
       "</div>"
      ],
      "text/plain": [
       "    code                                                url  \\\n",
       "0   3087  http://world-en.openfoodfacts.org/product/0000...   \n",
       "1   4530  http://world-en.openfoodfacts.org/product/0000...   \n",
       "2   4559  http://world-en.openfoodfacts.org/product/0000...   \n",
       "3  16087  http://world-en.openfoodfacts.org/product/0000...   \n",
       "4  16094  http://world-en.openfoodfacts.org/product/0000...   \n",
       "\n",
       "                      creator   created_t      created_datetime  \\\n",
       "0  openfoodfacts-contributors  1474103866  2016-09-17T09:17:46Z   \n",
       "1             usda-ndb-import  1489069957  2017-03-09T14:32:37Z   \n",
       "2             usda-ndb-import  1489069957  2017-03-09T14:32:37Z   \n",
       "3             usda-ndb-import  1489055731  2017-03-09T10:35:31Z   \n",
       "4             usda-ndb-import  1489055653  2017-03-09T10:34:13Z   \n",
       "\n",
       "  last_modified_t last_modified_datetime                    product_name  \\\n",
       "0      1474103893   2016-09-17T09:18:13Z              Farine de blé noir   \n",
       "1      1489069957   2017-03-09T14:32:37Z  Banana Chips Sweetened (Whole)   \n",
       "2      1489069957   2017-03-09T14:32:37Z                         Peanuts   \n",
       "3      1489055731   2017-03-09T10:35:31Z          Organic Salted Nut Mix   \n",
       "4      1489055653   2017-03-09T10:34:13Z                 Organic Polenta   \n",
       "\n",
       "  generic_name quantity  ... fruits-vegetables-nuts_100g  \\\n",
       "0          NaN      1kg  ...                         NaN   \n",
       "1          NaN      NaN  ...                         NaN   \n",
       "2          NaN      NaN  ...                         NaN   \n",
       "3          NaN      NaN  ...                         NaN   \n",
       "4          NaN      NaN  ...                         NaN   \n",
       "\n",
       "  fruits-vegetables-nuts-estimate_100g collagen-meat-protein-ratio_100g  \\\n",
       "0                                  NaN                              NaN   \n",
       "1                                  NaN                              NaN   \n",
       "2                                  NaN                              NaN   \n",
       "3                                  NaN                              NaN   \n",
       "4                                  NaN                              NaN   \n",
       "\n",
       "  cocoa_100g chlorophyl_100g carbon-footprint_100g nutrition-score-fr_100g  \\\n",
       "0        NaN             NaN                   NaN                     NaN   \n",
       "1        NaN             NaN                   NaN                    14.0   \n",
       "2        NaN             NaN                   NaN                     0.0   \n",
       "3        NaN             NaN                   NaN                    12.0   \n",
       "4        NaN             NaN                   NaN                     NaN   \n",
       "\n",
       "  nutrition-score-uk_100g glycemic-index_100g water-hardness_100g  \n",
       "0                     NaN                 NaN                 NaN  \n",
       "1                    14.0                 NaN                 NaN  \n",
       "2                     0.0                 NaN                 NaN  \n",
       "3                    12.0                 NaN                 NaN  \n",
       "4                     NaN                 NaN                 NaN  \n",
       "\n",
       "[5 rows x 163 columns]"
      ]
     },
     "execution_count": 85,
     "metadata": {},
     "output_type": "execute_result"
    }
   ],
   "source": [
    "df_nut_3.head()"
   ]
  },
  {
   "cell_type": "markdown",
   "id": "262cad95",
   "metadata": {},
   "source": [
    "## Create new dataframe\n",
    "Contains only category present in the JSON file"
   ]
  },
  {
   "cell_type": "code",
   "execution_count": 84,
   "id": "3de44745",
   "metadata": {},
   "outputs": [],
   "source": [
    "cat_csv_1 = list(df_nut_1['name'])\n",
    "cat_csv_2 = list(df_nut_2['Shrt_Desc'])\n",
    "cat_csv_3 = list(df_nut_3['product_name'])"
   ]
  },
  {
   "cell_type": "code",
   "execution_count": 16,
   "id": "7c3098e2",
   "metadata": {},
   "outputs": [
    {
     "name": "stdout",
     "output_type": "stream",
     "text": [
      "There are 498 categories in our classification task\n"
     ]
    }
   ],
   "source": [
    "#cat_json are all the categories available for our classification task\n",
    "cat_json = list(df_cat['name_readable'])\n",
    "print(f'There are {len(cat_json)} categories in our classification task')"
   ]
  },
  {
   "cell_type": "code",
   "execution_count": 17,
   "id": "43d7a434",
   "metadata": {},
   "outputs": [],
   "source": [
    "#for each cat, keep the name before the comma for simplicity\n",
    "def split(lst:list):\n",
    "    \"\"\"\n",
    "    give a list of food name and extract only the first part of the name\n",
    "    before the comma\n",
    "    lower case the name\n",
    "    \"\"\"\n",
    "    lst_clean = []\n",
    "    \n",
    "    for i in lst:\n",
    "        lst_clean.append(i.split(',')[0].lower())\n",
    "    \n",
    "    return lst_clean"
   ]
  },
  {
   "cell_type": "code",
   "execution_count": 86,
   "id": "6488c7e8",
   "metadata": {},
   "outputs": [],
   "source": [
    "def arr(lst:list):\n",
    "    \"\"\"\n",
    "    from a list of words create a list of array of each word separated by a comma\n",
    "    and lower each word\n",
    "    \"\"\"\n",
    "    \n",
    "    lst_arr=[]\n",
    "    \n",
    "    for i in lst:\n",
    "        #strip = str(i).replace(' ','')\n",
    "        lst_arr.append(str(i).lower().split(' '))\n",
    "        \n",
    "    return lst_arr"
   ]
  },
  {
   "cell_type": "code",
   "execution_count": 19,
   "id": "eab0d57e",
   "metadata": {},
   "outputs": [],
   "source": [
    "#create the array from function above\n",
    "cat_csv_array_1 = arr(cat_csv_1)\n",
    "cat_csv_array_2 = arr(cat_csv_2)"
   ]
  },
  {
   "cell_type": "code",
   "execution_count": 87,
   "id": "81b6cf48",
   "metadata": {},
   "outputs": [],
   "source": [
    "cat_csv_array_3 = arr(cat_csv_3)"
   ]
  },
  {
   "cell_type": "code",
   "execution_count": 88,
   "id": "ff8cae08",
   "metadata": {},
   "outputs": [],
   "source": [
    "#concatenate the 2 lists to get more category --> more chance to find similarities\n",
    "cat_csv_array = cat_csv_array_1 + cat_csv_array_2 + cat_csv_array_3"
   ]
  },
  {
   "cell_type": "code",
   "execution_count": 91,
   "id": "7168d836",
   "metadata": {},
   "outputs": [
    {
     "data": {
      "text/plain": [
       "373606"
      ]
     },
     "execution_count": 91,
     "metadata": {},
     "output_type": "execute_result"
    }
   ],
   "source": [
    "len(cat_csv_array)"
   ]
  },
  {
   "cell_type": "code",
   "execution_count": 24,
   "id": "c1ea09c3",
   "metadata": {
    "scrolled": true
   },
   "outputs": [],
   "source": [
    "#do the same for the json file\n",
    "cat_json_clean = split(cat_json)\n",
    "cat_json_array = arr(cat_json)"
   ]
  },
  {
   "cell_type": "code",
   "execution_count": 25,
   "id": "84b68976",
   "metadata": {},
   "outputs": [
    {
     "data": {
      "text/html": [
       "<div>\n",
       "<style scoped>\n",
       "    .dataframe tbody tr th:only-of-type {\n",
       "        vertical-align: middle;\n",
       "    }\n",
       "\n",
       "    .dataframe tbody tr th {\n",
       "        vertical-align: top;\n",
       "    }\n",
       "\n",
       "    .dataframe thead th {\n",
       "        text-align: right;\n",
       "    }\n",
       "</style>\n",
       "<table border=\"1\" class=\"dataframe\">\n",
       "  <thead>\n",
       "    <tr style=\"text-align: right;\">\n",
       "      <th></th>\n",
       "      <th>category</th>\n",
       "      <th>category_clean</th>\n",
       "      <th>category_array</th>\n",
       "    </tr>\n",
       "  </thead>\n",
       "  <tbody>\n",
       "    <tr>\n",
       "      <th>0</th>\n",
       "      <td>Bread, wholemeal</td>\n",
       "      <td>bread</td>\n",
       "      <td>[bread,  wholemeal]</td>\n",
       "    </tr>\n",
       "    <tr>\n",
       "      <th>1</th>\n",
       "      <td>Jam</td>\n",
       "      <td>jam</td>\n",
       "      <td>[jam]</td>\n",
       "    </tr>\n",
       "    <tr>\n",
       "      <th>2</th>\n",
       "      <td>Water</td>\n",
       "      <td>water</td>\n",
       "      <td>[water]</td>\n",
       "    </tr>\n",
       "    <tr>\n",
       "      <th>3</th>\n",
       "      <td>Bread, sourdough</td>\n",
       "      <td>bread</td>\n",
       "      <td>[bread,  sourdough]</td>\n",
       "    </tr>\n",
       "    <tr>\n",
       "      <th>4</th>\n",
       "      <td>Banana</td>\n",
       "      <td>banana</td>\n",
       "      <td>[banana]</td>\n",
       "    </tr>\n",
       "  </tbody>\n",
       "</table>\n",
       "</div>"
      ],
      "text/plain": [
       "           category category_clean       category_array\n",
       "0  Bread, wholemeal          bread  [bread,  wholemeal]\n",
       "1               Jam            jam                [jam]\n",
       "2             Water          water              [water]\n",
       "3  Bread, sourdough          bread  [bread,  sourdough]\n",
       "4            Banana         banana             [banana]"
      ]
     },
     "execution_count": 25,
     "metadata": {},
     "output_type": "execute_result"
    }
   ],
   "source": [
    "#create a clean dataset from the json category --> to be used for nutrition values\n",
    "df_nut = pd.DataFrame(data=cat_json, columns=['category'])\n",
    "df_nut['category_clean'] = cat_json_clean\n",
    "df_nut['category_array'] = cat_json_array\n",
    "df_nut.head()"
   ]
  },
  {
   "cell_type": "markdown",
   "id": "cdc7592e",
   "metadata": {},
   "source": [
    "## Get categories\n",
    "Get similar categories between JSON file and CSV (nutritions)"
   ]
  },
  {
   "cell_type": "code",
   "execution_count": 89,
   "id": "a1161824",
   "metadata": {},
   "outputs": [],
   "source": [
    "# compare list array from json to list array from csv\n",
    "# if all elements array json exist in array csv \n",
    "# and len(array json)/len(array csv) is between 0.5 and 1\n",
    "# then append to new list\n",
    "lst_available_csv = []\n",
    "lst_available_json = []\n",
    "for i in cat_json_array:\n",
    "    for j in cat_csv_array:\n",
    "        if all(k in j for k in i)==True:\n",
    "            if len(i)==1 and 'raw' in j:\n",
    "                lst_available_csv.append(j)\n",
    "                lst_available_json.append(i)\n",
    "            elif len(i)>1 and 0.2<=len(i)/len(j)<=1:\n",
    "                lst_available_csv.append(j)\n",
    "                lst_available_json.append(i)\n",
    "            break"
   ]
  },
  {
   "cell_type": "code",
   "execution_count": 90,
   "id": "21058057",
   "metadata": {},
   "outputs": [
    {
     "data": {
      "text/plain": [
       "25"
      ]
     },
     "execution_count": 90,
     "metadata": {},
     "output_type": "execute_result"
    }
   ],
   "source": [
    "len(lst_available_json)"
   ]
  },
  {
   "cell_type": "code",
   "execution_count": 79,
   "id": "2b654f63",
   "metadata": {
    "scrolled": false
   },
   "outputs": [
    {
     "data": {
      "text/plain": [
       "[['pepper', 'banana', 'raw'],\n",
       " ['juice',\n",
       "  ' with added ascorbic acid and calcium',\n",
       "  ' grape and pear blend',\n",
       "  ' apple'],\n",
       " ['soup', ' condensed', ' low sodium', ' canned', ' vegetable'],\n",
       " ['ham', ' cooked', ' smoked', ' honey'],\n",
       " ['squash', 'smmr', 'zucchini', 'incl skn', 'raw'],\n",
       " ['cake', ' dry mix', ' chocolate', ' pudding-type'],\n",
       " ['applesauce', ' with added ascorbic acid', ' unsweetened', ' canned'],\n",
       " ['bread', ' enriched', ' white', ' pita'],\n",
       " ['tuna', 'fresh', 'bluefin', 'raw'],\n",
       " ['cod', 'atlantic', 'raw'],\n",
       " ['chestnuts', 'chinese', 'raw'],\n",
       " ['bread', ' whole wheat', ' french or vienna'],\n",
       " ['chicken', ' barbecue flavored', ' glazed', ' frozen', ' wing'],\n",
       " ['bread', ' enriched', ' white', ' pita'],\n",
       " ['sauce', ' refrigerated', ' ready-to-serve', ' pesto'],\n",
       " ['spinach', ' raw'],\n",
       " ['chicken', ' raw', ' meat and skin', ' breast', ' broilers or fryers'],\n",
       " ['beans', ' raw', ' mature seeds', ' red', ' kidney'],\n",
       " ['bread', ' toasted', ' rye'],\n",
       " ['soup', ' condensed', ' canned', ' tomato'],\n",
       " ['chicken', ' raw', ' meat only', ' leg', ' broilers or fryers'],\n",
       " ['sauce', ' ready-to-serve', ' cocktail'],\n",
       " ['beans', ' canned', ' mature seeds', ' white'],\n",
       " ['cake', ' dry mix', ' marble', ' pudding-type'],\n",
       " ['beef',\n",
       "  ' raw',\n",
       "  ' choice',\n",
       "  ' trimmed to 0\" fat',\n",
       "  ' separable lean only',\n",
       "  ' roast',\n",
       "  ' tip round',\n",
       "  ' round']]"
      ]
     },
     "execution_count": 79,
     "metadata": {},
     "output_type": "execute_result"
    }
   ],
   "source": [
    "lst_available_csv"
   ]
  },
  {
   "cell_type": "code",
   "execution_count": 80,
   "id": "6f6c669c",
   "metadata": {},
   "outputs": [
    {
     "data": {
      "text/plain": [
       "[['banana'],\n",
       " ['juice', ' apple'],\n",
       " ['soup', ' vegetable'],\n",
       " ['ham', ' cooked'],\n",
       " ['zucchini'],\n",
       " ['cake', ' chocolate'],\n",
       " ['applesauce', ' unsweetened', ' canned'],\n",
       " ['bread', ' white'],\n",
       " ['tuna'],\n",
       " ['cod'],\n",
       " ['chestnuts'],\n",
       " ['bread', ' whole wheat'],\n",
       " ['chicken', ' wing'],\n",
       " ['bread', ' pita'],\n",
       " ['sauce', ' pesto'],\n",
       " ['spinach', ' raw'],\n",
       " ['chicken', ' breast'],\n",
       " ['beans', ' kidney'],\n",
       " ['bread', ' rye'],\n",
       " ['soup', ' tomato'],\n",
       " ['chicken', ' leg'],\n",
       " ['sauce', ' cocktail'],\n",
       " ['beans', ' white'],\n",
       " ['cake', ' marble'],\n",
       " ['beef', ' roast']]"
      ]
     },
     "execution_count": 80,
     "metadata": {},
     "output_type": "execute_result"
    }
   ],
   "source": [
    "lst_available_json"
   ]
  },
  {
   "cell_type": "markdown",
   "id": "5933e684",
   "metadata": {},
   "source": [
    "This process is not accurate\n",
    "<br>\n",
    "<br>\n",
    "Here is an example:\n",
    "<br>\n",
    "JSON category = 'Avocado'\n",
    "<br>\n",
    "CSV category = 'raw avocado' and 'oil avocado'\n",
    "<br>\n",
    "<br>\n",
    "'raw avocado' is obviously the good one. But how to tell the algo without using NLP?"
   ]
  },
  {
   "cell_type": "code",
   "execution_count": null,
   "id": "b56a9014",
   "metadata": {},
   "outputs": [],
   "source": []
  }
 ],
 "metadata": {
  "kernelspec": {
   "display_name": "Python 3 (ipykernel)",
   "language": "python",
   "name": "python3"
  },
  "language_info": {
   "codemirror_mode": {
    "name": "ipython",
    "version": 3
   },
   "file_extension": ".py",
   "mimetype": "text/x-python",
   "name": "python",
   "nbconvert_exporter": "python",
   "pygments_lexer": "ipython3",
   "version": "3.8.12"
  },
  "toc": {
   "base_numbering": 1,
   "nav_menu": {},
   "number_sections": true,
   "sideBar": true,
   "skip_h1_title": false,
   "title_cell": "Table of Contents",
   "title_sidebar": "Contents",
   "toc_cell": false,
   "toc_position": {},
   "toc_section_display": true,
   "toc_window_display": false
  }
 },
 "nbformat": 4,
 "nbformat_minor": 5
}
