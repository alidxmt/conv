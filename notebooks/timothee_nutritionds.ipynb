{
 "cells": [
  {
   "cell_type": "markdown",
   "id": "53709647",
   "metadata": {},
   "source": [
    "# Create Nutrition dataset\n",
    "This dataset will be used to retrieve nutrition information for food category"
   ]
  },
  {
   "cell_type": "code",
   "execution_count": 5,
   "id": "49638698",
   "metadata": {
    "collapsed": true
   },
   "outputs": [
    {
     "name": "stdout",
     "output_type": "stream",
     "text": [
      "Requirement already satisfied: google-cloud-storage in /Users/tim/.pyenv/versions/3.8.12/envs/foodyai/lib/python3.8/site-packages (2.6.0)\n",
      "Requirement already satisfied: google-resumable-media>=2.3.2 in /Users/tim/.pyenv/versions/3.8.12/envs/foodyai/lib/python3.8/site-packages (from google-cloud-storage) (2.4.0)\n",
      "Requirement already satisfied: google-api-core!=2.0.*,!=2.1.*,!=2.2.*,!=2.3.0,<3.0.0dev,>=1.31.5 in /Users/tim/.pyenv/versions/3.8.12/envs/foodyai/lib/python3.8/site-packages (from google-cloud-storage) (2.10.2)\n",
      "Requirement already satisfied: google-auth<3.0dev,>=1.25.0 in /Users/tim/.pyenv/versions/3.8.12/envs/foodyai/lib/python3.8/site-packages (from google-cloud-storage) (2.14.1)\n",
      "Requirement already satisfied: requests<3.0.0dev,>=2.18.0 in /Users/tim/.pyenv/versions/3.8.12/envs/foodyai/lib/python3.8/site-packages (from google-cloud-storage) (2.28.1)\n",
      "Requirement already satisfied: google-cloud-core<3.0dev,>=2.3.0 in /Users/tim/.pyenv/versions/3.8.12/envs/foodyai/lib/python3.8/site-packages (from google-cloud-storage) (2.3.2)\n",
      "Requirement already satisfied: googleapis-common-protos<2.0dev,>=1.56.2 in /Users/tim/.pyenv/versions/3.8.12/envs/foodyai/lib/python3.8/site-packages (from google-api-core!=2.0.*,!=2.1.*,!=2.2.*,!=2.3.0,<3.0.0dev,>=1.31.5->google-cloud-storage) (1.57.0)\n",
      "Requirement already satisfied: protobuf!=3.20.0,!=3.20.1,!=4.21.0,!=4.21.1,!=4.21.2,!=4.21.3,!=4.21.4,!=4.21.5,<5.0.0dev,>=3.19.5 in /Users/tim/.pyenv/versions/3.8.12/envs/foodyai/lib/python3.8/site-packages (from google-api-core!=2.0.*,!=2.1.*,!=2.2.*,!=2.3.0,<3.0.0dev,>=1.31.5->google-cloud-storage) (4.21.9)\n",
      "Requirement already satisfied: rsa<5,>=3.1.4 in /Users/tim/.pyenv/versions/3.8.12/envs/foodyai/lib/python3.8/site-packages (from google-auth<3.0dev,>=1.25.0->google-cloud-storage) (4.9)\n",
      "Requirement already satisfied: six>=1.9.0 in /Users/tim/.pyenv/versions/3.8.12/envs/foodyai/lib/python3.8/site-packages (from google-auth<3.0dev,>=1.25.0->google-cloud-storage) (1.16.0)\n",
      "Requirement already satisfied: cachetools<6.0,>=2.0.0 in /Users/tim/.pyenv/versions/3.8.12/envs/foodyai/lib/python3.8/site-packages (from google-auth<3.0dev,>=1.25.0->google-cloud-storage) (5.2.0)\n",
      "Requirement already satisfied: pyasn1-modules>=0.2.1 in /Users/tim/.pyenv/versions/3.8.12/envs/foodyai/lib/python3.8/site-packages (from google-auth<3.0dev,>=1.25.0->google-cloud-storage) (0.2.8)\n",
      "Requirement already satisfied: google-crc32c<2.0dev,>=1.0 in /Users/tim/.pyenv/versions/3.8.12/envs/foodyai/lib/python3.8/site-packages (from google-resumable-media>=2.3.2->google-cloud-storage) (1.5.0)\n",
      "Requirement already satisfied: certifi>=2017.4.17 in /Users/tim/.pyenv/versions/3.8.12/envs/foodyai/lib/python3.8/site-packages (from requests<3.0.0dev,>=2.18.0->google-cloud-storage) (2022.9.24)\n",
      "Requirement already satisfied: urllib3<1.27,>=1.21.1 in /Users/tim/.pyenv/versions/3.8.12/envs/foodyai/lib/python3.8/site-packages (from requests<3.0.0dev,>=2.18.0->google-cloud-storage) (1.26.12)\n",
      "Requirement already satisfied: idna<4,>=2.5 in /Users/tim/.pyenv/versions/3.8.12/envs/foodyai/lib/python3.8/site-packages (from requests<3.0.0dev,>=2.18.0->google-cloud-storage) (3.4)\n",
      "Requirement already satisfied: charset-normalizer<3,>=2 in /Users/tim/.pyenv/versions/3.8.12/envs/foodyai/lib/python3.8/site-packages (from requests<3.0.0dev,>=2.18.0->google-cloud-storage) (2.1.1)\n",
      "Requirement already satisfied: pyasn1<0.5.0,>=0.4.6 in /Users/tim/.pyenv/versions/3.8.12/envs/foodyai/lib/python3.8/site-packages (from pyasn1-modules>=0.2.1->google-auth<3.0dev,>=1.25.0->google-cloud-storage) (0.4.8)\n"
     ]
    }
   ],
   "source": [
    "#uncomment if google cloud is not installed\n",
    "\n",
    "#import sys\n",
    "#!{sys.executable} -m pip install google-cloud-storage"
   ]
  },
  {
   "cell_type": "code",
   "execution_count": 1,
   "id": "a132c0d0",
   "metadata": {},
   "outputs": [],
   "source": [
    "from google.cloud import storage\n",
    "import pandas as pd\n",
    "import json\n",
    "import numpy as np"
   ]
  },
  {
   "cell_type": "markdown",
   "id": "1ce88a2f",
   "metadata": {},
   "source": [
    "## Retrieve data from Google cloud"
   ]
  },
  {
   "cell_type": "code",
   "execution_count": 3,
   "id": "6df79b4b",
   "metadata": {},
   "outputs": [],
   "source": [
    "BUCKET_NAME = 'foodygs'\n",
    "client = storage.Client()\n",
    "bucket = client.bucket(BUCKET_NAME)"
   ]
  },
  {
   "cell_type": "markdown",
   "id": "e8fa145a",
   "metadata": {},
   "source": [
    "Get the csv files from the Google Cloud storage"
   ]
  },
  {
   "cell_type": "code",
   "execution_count": 147,
   "id": "c8c9d106",
   "metadata": {},
   "outputs": [],
   "source": [
    "my_prefix = \"Nutrition/\" # the name of the subfolder\n",
    "\n",
    "def get_nutrition(my_prefix:str):\n",
    "    \"\"\"\n",
    "    download all the files from google cloud storage to raw_data locally\n",
    "    \"\"\"\n",
    "blobs = bucket.list_blobs(prefix = my_prefix, delimiter = '/')\n",
    "\n",
    "    for blob in blobs:\n",
    "        if(blob.name != my_prefix): # ignoring the subfolder itself \n",
    "            file_name = '{}/{}'.format('../raw_data', blob.name.replace(my_prefix, \"\"))\n",
    "            blob.download_to_filename(file_name)"
   ]
  },
  {
   "cell_type": "markdown",
   "id": "ab4bf04e",
   "metadata": {},
   "source": [
    "Get the JSON file from the Google Cloud storage"
   ]
  },
  {
   "cell_type": "code",
   "execution_count": 5,
   "id": "d5ecd8c5",
   "metadata": {},
   "outputs": [],
   "source": [
    "def json_train():\n",
    "    storage_filename_annot = 'foodyai_data/Training_1/annotations.json'\n",
    "    local_filename_annot = \"../raw_data/annotations.json\"\n",
    "\n",
    "    blob = bucket.blob(storage_filename_annot)\n",
    "    blob.download_to_filename(local_filename_annot)"
   ]
  },
  {
   "cell_type": "markdown",
   "id": "468826ae",
   "metadata": {},
   "source": [
    "## Create dataframe "
   ]
  },
  {
   "cell_type": "markdown",
   "id": "1bbe4021",
   "metadata": {},
   "source": [
    "### JSON file (annotations)"
   ]
  },
  {
   "cell_type": "code",
   "execution_count": 8,
   "id": "9577b266",
   "metadata": {},
   "outputs": [],
   "source": [
    "js = open(local_filename_annot)\n",
    "ds_annot = json.load(js)"
   ]
  },
  {
   "cell_type": "code",
   "execution_count": 35,
   "id": "794313fc",
   "metadata": {},
   "outputs": [],
   "source": [
    "df_cat = pd.DataFrame(ds_annot['categories'])"
   ]
  },
  {
   "cell_type": "code",
   "execution_count": 36,
   "id": "a448f1f4",
   "metadata": {},
   "outputs": [
    {
     "data": {
      "text/html": [
       "<div>\n",
       "<style scoped>\n",
       "    .dataframe tbody tr th:only-of-type {\n",
       "        vertical-align: middle;\n",
       "    }\n",
       "\n",
       "    .dataframe tbody tr th {\n",
       "        vertical-align: top;\n",
       "    }\n",
       "\n",
       "    .dataframe thead th {\n",
       "        text-align: right;\n",
       "    }\n",
       "</style>\n",
       "<table border=\"1\" class=\"dataframe\">\n",
       "  <thead>\n",
       "    <tr style=\"text-align: right;\">\n",
       "      <th></th>\n",
       "      <th>id</th>\n",
       "      <th>name</th>\n",
       "      <th>name_readable</th>\n",
       "      <th>supercategory</th>\n",
       "    </tr>\n",
       "  </thead>\n",
       "  <tbody>\n",
       "    <tr>\n",
       "      <th>0</th>\n",
       "      <td>1565</td>\n",
       "      <td>bread-wholemeal</td>\n",
       "      <td>Bread, wholemeal</td>\n",
       "      <td>food</td>\n",
       "    </tr>\n",
       "    <tr>\n",
       "      <th>1</th>\n",
       "      <td>2099</td>\n",
       "      <td>jam</td>\n",
       "      <td>Jam</td>\n",
       "      <td>food</td>\n",
       "    </tr>\n",
       "    <tr>\n",
       "      <th>2</th>\n",
       "      <td>2578</td>\n",
       "      <td>water</td>\n",
       "      <td>Water</td>\n",
       "      <td>food</td>\n",
       "    </tr>\n",
       "    <tr>\n",
       "      <th>3</th>\n",
       "      <td>1556</td>\n",
       "      <td>bread-sourdough</td>\n",
       "      <td>Bread, sourdough</td>\n",
       "      <td>food</td>\n",
       "    </tr>\n",
       "    <tr>\n",
       "      <th>4</th>\n",
       "      <td>1154</td>\n",
       "      <td>banana</td>\n",
       "      <td>Banana</td>\n",
       "      <td>food</td>\n",
       "    </tr>\n",
       "  </tbody>\n",
       "</table>\n",
       "</div>"
      ],
      "text/plain": [
       "     id             name     name_readable supercategory\n",
       "0  1565  bread-wholemeal  Bread, wholemeal          food\n",
       "1  2099              jam               Jam          food\n",
       "2  2578            water             Water          food\n",
       "3  1556  bread-sourdough  Bread, sourdough          food\n",
       "4  1154           banana            Banana          food"
      ]
     },
     "execution_count": 36,
     "metadata": {},
     "output_type": "execute_result"
    }
   ],
   "source": [
    "df_cat.head()"
   ]
  },
  {
   "cell_type": "markdown",
   "id": "908e3f55",
   "metadata": {},
   "source": [
    "### CSV file (nutritions)"
   ]
  },
  {
   "cell_type": "code",
   "execution_count": 191,
   "id": "2a6c9484",
   "metadata": {},
   "outputs": [],
   "source": [
    "df_nut_1 = pd.read_csv('../raw_data/nutrition.csv')\n",
    "df_nut_2 = pd.read_csv('../raw_data/nutrition2.csv')"
   ]
  },
  {
   "cell_type": "code",
   "execution_count": 192,
   "id": "385eb0c5",
   "metadata": {},
   "outputs": [
    {
     "data": {
      "text/html": [
       "<div>\n",
       "<style scoped>\n",
       "    .dataframe tbody tr th:only-of-type {\n",
       "        vertical-align: middle;\n",
       "    }\n",
       "\n",
       "    .dataframe tbody tr th {\n",
       "        vertical-align: top;\n",
       "    }\n",
       "\n",
       "    .dataframe thead th {\n",
       "        text-align: right;\n",
       "    }\n",
       "</style>\n",
       "<table border=\"1\" class=\"dataframe\">\n",
       "  <thead>\n",
       "    <tr style=\"text-align: right;\">\n",
       "      <th></th>\n",
       "      <th>index</th>\n",
       "      <th>NDB_No</th>\n",
       "      <th>Shrt_Desc</th>\n",
       "      <th>Water_(g)</th>\n",
       "      <th>Energ_Kcal</th>\n",
       "      <th>Protein_(g)</th>\n",
       "      <th>Lipid_Tot_(g)</th>\n",
       "      <th>Ash_(g)</th>\n",
       "      <th>Carbohydrt_(g)</th>\n",
       "      <th>Fiber_TD_(g)</th>\n",
       "      <th>...</th>\n",
       "      <th>Vit_K_(µg)</th>\n",
       "      <th>FA_Sat_(g)</th>\n",
       "      <th>FA_Mono_(g)</th>\n",
       "      <th>FA_Poly_(g)</th>\n",
       "      <th>Cholestrl_(mg)</th>\n",
       "      <th>GmWt_1</th>\n",
       "      <th>GmWt_Desc1</th>\n",
       "      <th>GmWt_2</th>\n",
       "      <th>GmWt_Desc2</th>\n",
       "      <th>Refuse_Pct</th>\n",
       "    </tr>\n",
       "  </thead>\n",
       "  <tbody>\n",
       "    <tr>\n",
       "      <th>0</th>\n",
       "      <td>0</td>\n",
       "      <td>1001</td>\n",
       "      <td>BUTTER,WITH SALT</td>\n",
       "      <td>15.87</td>\n",
       "      <td>717</td>\n",
       "      <td>0.85</td>\n",
       "      <td>81.11</td>\n",
       "      <td>2.11</td>\n",
       "      <td>0.06</td>\n",
       "      <td>0.0</td>\n",
       "      <td>...</td>\n",
       "      <td>7.0</td>\n",
       "      <td>51.368</td>\n",
       "      <td>21.021</td>\n",
       "      <td>3.043</td>\n",
       "      <td>215.0</td>\n",
       "      <td>5.00</td>\n",
       "      <td>1 pat,  (1\" sq, 1/3\" high)</td>\n",
       "      <td>14.2</td>\n",
       "      <td>1 tbsp</td>\n",
       "      <td>0.0</td>\n",
       "    </tr>\n",
       "    <tr>\n",
       "      <th>1</th>\n",
       "      <td>1</td>\n",
       "      <td>1002</td>\n",
       "      <td>BUTTER,WHIPPED,W/ SALT</td>\n",
       "      <td>16.72</td>\n",
       "      <td>718</td>\n",
       "      <td>0.49</td>\n",
       "      <td>78.30</td>\n",
       "      <td>1.62</td>\n",
       "      <td>2.87</td>\n",
       "      <td>0.0</td>\n",
       "      <td>...</td>\n",
       "      <td>4.6</td>\n",
       "      <td>45.390</td>\n",
       "      <td>19.874</td>\n",
       "      <td>3.331</td>\n",
       "      <td>225.0</td>\n",
       "      <td>3.80</td>\n",
       "      <td>1 pat,  (1\" sq, 1/3\" high)</td>\n",
       "      <td>9.4</td>\n",
       "      <td>1 tbsp</td>\n",
       "      <td>0.0</td>\n",
       "    </tr>\n",
       "    <tr>\n",
       "      <th>2</th>\n",
       "      <td>2</td>\n",
       "      <td>1003</td>\n",
       "      <td>BUTTER OIL,ANHYDROUS</td>\n",
       "      <td>0.24</td>\n",
       "      <td>876</td>\n",
       "      <td>0.28</td>\n",
       "      <td>99.48</td>\n",
       "      <td>0.00</td>\n",
       "      <td>0.00</td>\n",
       "      <td>0.0</td>\n",
       "      <td>...</td>\n",
       "      <td>8.6</td>\n",
       "      <td>61.924</td>\n",
       "      <td>28.732</td>\n",
       "      <td>3.694</td>\n",
       "      <td>256.0</td>\n",
       "      <td>12.80</td>\n",
       "      <td>1 tbsp</td>\n",
       "      <td>205.0</td>\n",
       "      <td>1 cup</td>\n",
       "      <td>0.0</td>\n",
       "    </tr>\n",
       "    <tr>\n",
       "      <th>3</th>\n",
       "      <td>3</td>\n",
       "      <td>1004</td>\n",
       "      <td>CHEESE,BLUE</td>\n",
       "      <td>42.41</td>\n",
       "      <td>353</td>\n",
       "      <td>21.40</td>\n",
       "      <td>28.74</td>\n",
       "      <td>5.11</td>\n",
       "      <td>2.34</td>\n",
       "      <td>0.0</td>\n",
       "      <td>...</td>\n",
       "      <td>2.4</td>\n",
       "      <td>18.669</td>\n",
       "      <td>7.778</td>\n",
       "      <td>0.800</td>\n",
       "      <td>75.0</td>\n",
       "      <td>28.35</td>\n",
       "      <td>1 oz</td>\n",
       "      <td>17.0</td>\n",
       "      <td>1 cubic inch</td>\n",
       "      <td>0.0</td>\n",
       "    </tr>\n",
       "    <tr>\n",
       "      <th>4</th>\n",
       "      <td>4</td>\n",
       "      <td>1005</td>\n",
       "      <td>CHEESE,BRICK</td>\n",
       "      <td>41.11</td>\n",
       "      <td>371</td>\n",
       "      <td>23.24</td>\n",
       "      <td>29.68</td>\n",
       "      <td>3.18</td>\n",
       "      <td>2.79</td>\n",
       "      <td>0.0</td>\n",
       "      <td>...</td>\n",
       "      <td>2.5</td>\n",
       "      <td>18.764</td>\n",
       "      <td>8.598</td>\n",
       "      <td>0.784</td>\n",
       "      <td>94.0</td>\n",
       "      <td>132.00</td>\n",
       "      <td>1 cup, diced</td>\n",
       "      <td>113.0</td>\n",
       "      <td>1 cup, shredded</td>\n",
       "      <td>0.0</td>\n",
       "    </tr>\n",
       "  </tbody>\n",
       "</table>\n",
       "<p>5 rows × 54 columns</p>\n",
       "</div>"
      ],
      "text/plain": [
       "   index  NDB_No               Shrt_Desc  Water_(g)  Energ_Kcal  Protein_(g)  \\\n",
       "0      0    1001        BUTTER,WITH SALT      15.87         717         0.85   \n",
       "1      1    1002  BUTTER,WHIPPED,W/ SALT      16.72         718         0.49   \n",
       "2      2    1003    BUTTER OIL,ANHYDROUS       0.24         876         0.28   \n",
       "3      3    1004             CHEESE,BLUE      42.41         353        21.40   \n",
       "4      4    1005            CHEESE,BRICK      41.11         371        23.24   \n",
       "\n",
       "   Lipid_Tot_(g)  Ash_(g)  Carbohydrt_(g)  Fiber_TD_(g)  ...  Vit_K_(µg)  \\\n",
       "0          81.11     2.11            0.06           0.0  ...         7.0   \n",
       "1          78.30     1.62            2.87           0.0  ...         4.6   \n",
       "2          99.48     0.00            0.00           0.0  ...         8.6   \n",
       "3          28.74     5.11            2.34           0.0  ...         2.4   \n",
       "4          29.68     3.18            2.79           0.0  ...         2.5   \n",
       "\n",
       "   FA_Sat_(g)  FA_Mono_(g)  FA_Poly_(g)  Cholestrl_(mg)  GmWt_1  \\\n",
       "0      51.368       21.021        3.043           215.0    5.00   \n",
       "1      45.390       19.874        3.331           225.0    3.80   \n",
       "2      61.924       28.732        3.694           256.0   12.80   \n",
       "3      18.669        7.778        0.800            75.0   28.35   \n",
       "4      18.764        8.598        0.784            94.0  132.00   \n",
       "\n",
       "                   GmWt_Desc1  GmWt_2       GmWt_Desc2  Refuse_Pct  \n",
       "0  1 pat,  (1\" sq, 1/3\" high)    14.2           1 tbsp         0.0  \n",
       "1  1 pat,  (1\" sq, 1/3\" high)     9.4           1 tbsp         0.0  \n",
       "2                      1 tbsp   205.0            1 cup         0.0  \n",
       "3                        1 oz    17.0     1 cubic inch         0.0  \n",
       "4                1 cup, diced   113.0  1 cup, shredded         0.0  \n",
       "\n",
       "[5 rows x 54 columns]"
      ]
     },
     "execution_count": 192,
     "metadata": {},
     "output_type": "execute_result"
    }
   ],
   "source": [
    "df_nut_2.head()\n",
    "#len(df_nut_3)"
   ]
  },
  {
   "cell_type": "markdown",
   "id": "262cad95",
   "metadata": {},
   "source": [
    "## Create new dataframe\n",
    "Contains only category present in the JSON file"
   ]
  },
  {
   "cell_type": "code",
   "execution_count": 193,
   "id": "3de44745",
   "metadata": {},
   "outputs": [],
   "source": [
    "cat_csv_1 = list(df_nut_1['name'])\n",
    "cat_csv_2 = list(df_nut_2['Shrt_Desc'])"
   ]
  },
  {
   "cell_type": "code",
   "execution_count": 152,
   "id": "7c3098e2",
   "metadata": {},
   "outputs": [
    {
     "name": "stdout",
     "output_type": "stream",
     "text": [
      "There are 498 categories in our classification task\n"
     ]
    }
   ],
   "source": [
    "#cat_json are all the categories available for our classification task\n",
    "cat_json = list(df_cat['name_readable'])\n",
    "print(f'There are {len(cat_json)} categories in our classification task')"
   ]
  },
  {
   "cell_type": "code",
   "execution_count": 42,
   "id": "43d7a434",
   "metadata": {},
   "outputs": [],
   "source": [
    "#for each cat, keep the name before the comma for simplicity\n",
    "def split(lst:list):\n",
    "    \"\"\"\n",
    "    give a list of food name and extract only the first part of the name\n",
    "    before the comma\n",
    "    lower case the name\n",
    "    \"\"\"\n",
    "    lst_clean = []\n",
    "    \n",
    "    for i in lst:\n",
    "        lst_clean.append(i.split(',')[0].lower())\n",
    "    \n",
    "    return lst_clean"
   ]
  },
  {
   "cell_type": "code",
   "execution_count": 180,
   "id": "6488c7e8",
   "metadata": {},
   "outputs": [],
   "source": [
    "def arr(lst:list):\n",
    "    \"\"\"\n",
    "    from a list of words create a list of array of each word separated by a comma\n",
    "    and lower each word\n",
    "    \"\"\"\n",
    "    \n",
    "    lst_arr=[]\n",
    "    \n",
    "    for i in lst:\n",
    "        strip = str(i).replace(' ','')\n",
    "        lst_arr.append(str(i).lower().split(','))\n",
    "        \n",
    "    return lst_arr"
   ]
  },
  {
   "cell_type": "code",
   "execution_count": 194,
   "id": "eab0d57e",
   "metadata": {},
   "outputs": [],
   "source": [
    "#cat_json_array = arr(cat_json)\n",
    "cat_csv_array_1 = arr(cat_csv_1)\n",
    "cat_csv_array_2 = arr(cat_csv_2)"
   ]
  },
  {
   "cell_type": "code",
   "execution_count": 195,
   "id": "58084501",
   "metadata": {},
   "outputs": [],
   "source": [
    "cat = cat_csv_array_1 + cat_csv_array_2"
   ]
  },
  {
   "cell_type": "code",
   "execution_count": 43,
   "id": "c1ea09c3",
   "metadata": {},
   "outputs": [],
   "source": [
    "cat_json_clean = split(cat_json)\n",
    "cat_csv_clean = split(cat_csv)"
   ]
  },
  {
   "cell_type": "code",
   "execution_count": 203,
   "id": "84b68976",
   "metadata": {},
   "outputs": [
    {
     "data": {
      "text/html": [
       "<div>\n",
       "<style scoped>\n",
       "    .dataframe tbody tr th:only-of-type {\n",
       "        vertical-align: middle;\n",
       "    }\n",
       "\n",
       "    .dataframe tbody tr th {\n",
       "        vertical-align: top;\n",
       "    }\n",
       "\n",
       "    .dataframe thead th {\n",
       "        text-align: right;\n",
       "    }\n",
       "</style>\n",
       "<table border=\"1\" class=\"dataframe\">\n",
       "  <thead>\n",
       "    <tr style=\"text-align: right;\">\n",
       "      <th></th>\n",
       "      <th>category</th>\n",
       "      <th>category_clean</th>\n",
       "      <th>category_array</th>\n",
       "    </tr>\n",
       "  </thead>\n",
       "  <tbody>\n",
       "    <tr>\n",
       "      <th>0</th>\n",
       "      <td>Bread, wholemeal</td>\n",
       "      <td>bread</td>\n",
       "      <td>[bread,wholemeal]</td>\n",
       "    </tr>\n",
       "    <tr>\n",
       "      <th>1</th>\n",
       "      <td>Jam</td>\n",
       "      <td>jam</td>\n",
       "      <td>[jam]</td>\n",
       "    </tr>\n",
       "    <tr>\n",
       "      <th>2</th>\n",
       "      <td>Water</td>\n",
       "      <td>water</td>\n",
       "      <td>[water]</td>\n",
       "    </tr>\n",
       "    <tr>\n",
       "      <th>3</th>\n",
       "      <td>Bread, sourdough</td>\n",
       "      <td>bread</td>\n",
       "      <td>[bread,sourdough]</td>\n",
       "    </tr>\n",
       "    <tr>\n",
       "      <th>4</th>\n",
       "      <td>Banana</td>\n",
       "      <td>banana</td>\n",
       "      <td>[banana]</td>\n",
       "    </tr>\n",
       "  </tbody>\n",
       "</table>\n",
       "</div>"
      ],
      "text/plain": [
       "           category category_clean     category_array\n",
       "0  Bread, wholemeal          bread  [bread,wholemeal]\n",
       "1               Jam            jam              [jam]\n",
       "2             Water          water            [water]\n",
       "3  Bread, sourdough          bread  [bread,sourdough]\n",
       "4            Banana         banana           [banana]"
      ]
     },
     "execution_count": 203,
     "metadata": {},
     "output_type": "execute_result"
    }
   ],
   "source": [
    "df_nut = pd.DataFrame(data=cat_json, columns=['category'])\n",
    "df_nut['category_clean'] = cat_json_clean\n",
    "df_nut['category_array'] = cat_json_array\n",
    "df_nut.head()"
   ]
  },
  {
   "cell_type": "code",
   "execution_count": 45,
   "id": "55cae0e1",
   "metadata": {
    "scrolled": true
   },
   "outputs": [
    {
     "data": {
      "text/html": [
       "<div>\n",
       "<style scoped>\n",
       "    .dataframe tbody tr th:only-of-type {\n",
       "        vertical-align: middle;\n",
       "    }\n",
       "\n",
       "    .dataframe tbody tr th {\n",
       "        vertical-align: top;\n",
       "    }\n",
       "\n",
       "    .dataframe thead th {\n",
       "        text-align: right;\n",
       "    }\n",
       "</style>\n",
       "<table border=\"1\" class=\"dataframe\">\n",
       "  <thead>\n",
       "    <tr style=\"text-align: right;\">\n",
       "      <th></th>\n",
       "      <th>name</th>\n",
       "      <th>serving_size</th>\n",
       "      <th>calories</th>\n",
       "      <th>total_fat</th>\n",
       "      <th>saturated_fat</th>\n",
       "      <th>cholesterol</th>\n",
       "      <th>sodium</th>\n",
       "      <th>protein</th>\n",
       "      <th>carbohydrate</th>\n",
       "      <th>fiber</th>\n",
       "      <th>category_clean</th>\n",
       "    </tr>\n",
       "  </thead>\n",
       "  <tbody>\n",
       "    <tr>\n",
       "      <th>0</th>\n",
       "      <td>Cornstarch</td>\n",
       "      <td>100 g</td>\n",
       "      <td>381</td>\n",
       "      <td>0.1g</td>\n",
       "      <td>NaN</td>\n",
       "      <td>0</td>\n",
       "      <td>9.00 mg</td>\n",
       "      <td>0.26 g</td>\n",
       "      <td>91.27 g</td>\n",
       "      <td>0.9 g</td>\n",
       "      <td>cornstarch</td>\n",
       "    </tr>\n",
       "    <tr>\n",
       "      <th>1</th>\n",
       "      <td>Nuts, pecans</td>\n",
       "      <td>100 g</td>\n",
       "      <td>691</td>\n",
       "      <td>72g</td>\n",
       "      <td>6.2g</td>\n",
       "      <td>0</td>\n",
       "      <td>0.00 mg</td>\n",
       "      <td>9.17 g</td>\n",
       "      <td>13.86 g</td>\n",
       "      <td>9.6 g</td>\n",
       "      <td>nuts</td>\n",
       "    </tr>\n",
       "    <tr>\n",
       "      <th>2</th>\n",
       "      <td>Eggplant, raw</td>\n",
       "      <td>100 g</td>\n",
       "      <td>25</td>\n",
       "      <td>0.2g</td>\n",
       "      <td>NaN</td>\n",
       "      <td>0</td>\n",
       "      <td>2.00 mg</td>\n",
       "      <td>0.98 g</td>\n",
       "      <td>5.88 g</td>\n",
       "      <td>3.0 g</td>\n",
       "      <td>eggplant</td>\n",
       "    </tr>\n",
       "    <tr>\n",
       "      <th>3</th>\n",
       "      <td>Teff, uncooked</td>\n",
       "      <td>100 g</td>\n",
       "      <td>367</td>\n",
       "      <td>2.4g</td>\n",
       "      <td>0.4g</td>\n",
       "      <td>0</td>\n",
       "      <td>12.00 mg</td>\n",
       "      <td>13.30 g</td>\n",
       "      <td>73.13 g</td>\n",
       "      <td>8.0 g</td>\n",
       "      <td>teff</td>\n",
       "    </tr>\n",
       "    <tr>\n",
       "      <th>4</th>\n",
       "      <td>Sherbet, orange</td>\n",
       "      <td>100 g</td>\n",
       "      <td>144</td>\n",
       "      <td>2g</td>\n",
       "      <td>1.2g</td>\n",
       "      <td>1mg</td>\n",
       "      <td>46.00 mg</td>\n",
       "      <td>1.10 g</td>\n",
       "      <td>30.40 g</td>\n",
       "      <td>1.3 g</td>\n",
       "      <td>sherbet</td>\n",
       "    </tr>\n",
       "  </tbody>\n",
       "</table>\n",
       "</div>"
      ],
      "text/plain": [
       "              name serving_size  calories total_fat saturated_fat cholesterol  \\\n",
       "0       Cornstarch        100 g       381      0.1g           NaN           0   \n",
       "1     Nuts, pecans        100 g       691       72g          6.2g           0   \n",
       "2    Eggplant, raw        100 g        25      0.2g           NaN           0   \n",
       "3   Teff, uncooked        100 g       367      2.4g          0.4g           0   \n",
       "4  Sherbet, orange        100 g       144        2g          1.2g         1mg   \n",
       "\n",
       "     sodium  protein carbohydrate  fiber category_clean  \n",
       "0   9.00 mg   0.26 g      91.27 g  0.9 g     cornstarch  \n",
       "1   0.00 mg   9.17 g      13.86 g  9.6 g           nuts  \n",
       "2   2.00 mg   0.98 g       5.88 g  3.0 g       eggplant  \n",
       "3  12.00 mg  13.30 g      73.13 g  8.0 g           teff  \n",
       "4  46.00 mg   1.10 g      30.40 g  1.3 g        sherbet  "
      ]
     },
     "execution_count": 45,
     "metadata": {},
     "output_type": "execute_result"
    }
   ],
   "source": [
    "#keep only the columns that we need\n",
    "df_nut_csv = df_nut_1\n",
    "df_nut_csv['category_clean'] = cat_csv_clean\n",
    "#list of nutrition fact we want + name and serving size\n",
    "nut = ['name','serving_size','calories','total_fat','saturated_fat',\n",
    "       'cholesterol','sodium','protein','carbohydrate', 'fiber','category_clean']\n",
    "df_nut_csv = df_nut_csv[nut]\n",
    "df_nut_csv.head()"
   ]
  },
  {
   "cell_type": "markdown",
   "id": "cdc7592e",
   "metadata": {},
   "source": [
    "## Get categories\n",
    "Get similar categories between JSON file and CSV (nutritions)"
   ]
  },
  {
   "cell_type": "code",
   "execution_count": 214,
   "id": "a1161824",
   "metadata": {},
   "outputs": [],
   "source": [
    "#compare list array from json to list array from csv\n",
    "# if all elements array json exist in array csv then append to new list\n",
    "lst_available_csv = []\n",
    "lst_available_json = []\n",
    "for i in cat_json_array:\n",
    "    for j in cat:\n",
    "        if all(k in j for k in i)==True:\n",
    "            lst_available_csv.append(j)\n",
    "            lst_available_json.append(i)\n",
    "            break"
   ]
  },
  {
   "cell_type": "code",
   "execution_count": 215,
   "id": "21058057",
   "metadata": {},
   "outputs": [
    {
     "data": {
      "text/plain": [
       "112"
      ]
     },
     "execution_count": 215,
     "metadata": {},
     "output_type": "execute_result"
    }
   ],
   "source": [
    "len(lst_available_json)"
   ]
  },
  {
   "cell_type": "markdown",
   "id": "5933e684",
   "metadata": {},
   "source": [
    "This process is not accurate"
   ]
  }
 ],
 "metadata": {
  "kernelspec": {
   "display_name": "Python 3 (ipykernel)",
   "language": "python",
   "name": "python3"
  },
  "language_info": {
   "codemirror_mode": {
    "name": "ipython",
    "version": 3
   },
   "file_extension": ".py",
   "mimetype": "text/x-python",
   "name": "python",
   "nbconvert_exporter": "python",
   "pygments_lexer": "ipython3",
   "version": "3.8.12"
  },
  "toc": {
   "base_numbering": 1,
   "nav_menu": {},
   "number_sections": true,
   "sideBar": true,
   "skip_h1_title": false,
   "title_cell": "Table of Contents",
   "title_sidebar": "Contents",
   "toc_cell": false,
   "toc_position": {},
   "toc_section_display": true,
   "toc_window_display": false
  }
 },
 "nbformat": 4,
 "nbformat_minor": 5
}
