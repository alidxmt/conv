{
 "cells": [
  {
   "cell_type": "markdown",
   "id": "87e0905c",
   "metadata": {},
   "source": [
    "# API to get nutrition facts\n",
    "**Idea**\n",
    "<br>\n",
    "* Predict food categories from images\n",
    "* Clean the categories --> data cleaning like done for NLP\n",
    "* Put cleaned categories in string (concatenate all categories together)\n",
    "* use API to detect food item in text then create a list of these items\n",
    "* for each item, call API to ouptut nutrition fact of each cat.\n",
    "* create a dataframe of all ingredients"
   ]
  },
  {
   "cell_type": "markdown",
   "id": "11c4a331",
   "metadata": {},
   "source": [
    "**Important note**\n",
    "<br>\n",
    "We have to find a way to get kind of accurate final nutrition fact (for the whole meal, all items put together)"
   ]
  },
  {
   "cell_type": "markdown",
   "id": "28366101",
   "metadata": {},
   "source": [
    "## Import packages\n",
    "Necessary packages to run this notebook"
   ]
  },
  {
   "cell_type": "code",
   "execution_count": 1,
   "id": "3fbea8da",
   "metadata": {},
   "outputs": [],
   "source": [
    "#uncomment if installation is needed. Don't forget to comment after download\n",
    "#pip install nltk"
   ]
  },
  {
   "cell_type": "code",
   "execution_count": 2,
   "id": "6391ce3e",
   "metadata": {},
   "outputs": [],
   "source": [
    "import string\n",
    "from nltk.corpus import stopwords \n",
    "from nltk import word_tokenize\n",
    "from nltk.stem import WordNetLemmatizer as wnl"
   ]
  },
  {
   "cell_type": "code",
   "execution_count": 3,
   "id": "cce35dfe",
   "metadata": {},
   "outputs": [],
   "source": [
    "import requests\n",
    "import pandas as pd"
   ]
  },
  {
   "cell_type": "markdown",
   "id": "584b74f8",
   "metadata": {},
   "source": [
    "## Clean categories\n",
    "Take the category(ies) predicted by our model and clean it.\n",
    "<br>\n",
    "Needs to be properly cleaned to keywords because it works better while requesting the API.\n",
    "<br>\n",
    "Use the same type of cleaning from what it is used for NLP. \n",
    "<br>\n",
    "Extra steps is needed to keep only useful keyword for the API."
   ]
  },
  {
   "cell_type": "code",
   "execution_count": 4,
   "id": "901646a5",
   "metadata": {},
   "outputs": [],
   "source": [
    "def preprocessing(categories:list)->str:\n",
    "    '''\n",
    "    give a list of string --> each string is the category predicted\n",
    "    clean each sentence in the column reviews for our dataframe \"data\"\n",
    "    remove whitespaces, lowercase characers, remove numbers, remove punctuation ,tokenize, lemmatize\n",
    "    '''\n",
    "    cat_cleaned = []\n",
    "    \n",
    "    for sentence in categories:\n",
    "    \n",
    "        sentence = sentence.strip() #remove whitespaces\n",
    "        sentence = sentence.lower() # lower chara\n",
    "        sentence = ''.join(char for char in sentence if not char.isdigit()) # remove numbers\n",
    "\n",
    "        for punctuation in string.punctuation:\n",
    "            sentence = sentence.replace(punctuation, '') # remove punctuation\n",
    "\n",
    "        tokenized_sentence = word_tokenize(sentence) # tokenize sentence\n",
    "        stop_words = set(stopwords.words('english')) # define stopwords\n",
    "\n",
    "        tokenized_sentence_cleaned = [w for w in tokenized_sentence if not w in stop_words] # remove stopwords\n",
    "\n",
    "        verb_lemmatized = [wnl().lemmatize(word, pos = \"v\") for word in tokenized_sentence_cleaned] # lemmatize for verbs\n",
    "        lemmatized = [wnl().lemmatize(word, pos = \"n\") for word in verb_lemmatized] # lemmatize for nouns on top of lemmatize for verbs\n",
    "\n",
    "        sentence = ' '.join(lemmatized)\n",
    "        \n",
    "        cat_cleaned.append(sentence)\n",
    "    \n",
    "    cat_cleaned = ' '.join(cat_cleaned)\n",
    "    \n",
    "    return cat_cleaned"
   ]
  },
  {
   "cell_type": "markdown",
   "id": "45647f99",
   "metadata": {},
   "source": [
    "### Test cleaning\n",
    "This part is not necessary for our package. It is just to test the cleaning part"
   ]
  },
  {
   "cell_type": "code",
   "execution_count": 5,
   "id": "33381648",
   "metadata": {},
   "outputs": [],
   "source": [
    "categories = ['bread with Butter'] # to be changed for the categories predicted from model"
   ]
  },
  {
   "cell_type": "code",
   "execution_count": 6,
   "id": "ce600c6e",
   "metadata": {},
   "outputs": [],
   "source": [
    "clean = preprocessing(categories)"
   ]
  },
  {
   "cell_type": "code",
   "execution_count": 7,
   "id": "0b0523bd",
   "metadata": {},
   "outputs": [
    {
     "data": {
      "text/plain": [
       "'bread butter'"
      ]
     },
     "execution_count": 7,
     "metadata": {},
     "output_type": "execute_result"
    }
   ],
   "source": [
    "clean"
   ]
  },
  {
   "cell_type": "markdown",
   "id": "a936adf2",
   "metadata": {},
   "source": [
    "## API - Spoonacular\n",
    "Use the API from Spoonacular using RapidAPI since its set up is easier.\n",
    "<br>\n",
    "\n",
    "<br>\n",
    "There is another API --> Nutritionix API that we can use but seems a bit more complex to use. See later."
   ]
  },
  {
   "cell_type": "markdown",
   "id": "42252d72",
   "metadata": {},
   "source": [
    "### Spoonacular api"
   ]
  },
  {
   "cell_type": "code",
   "execution_count": 8,
   "id": "df6703c1",
   "metadata": {},
   "outputs": [],
   "source": [
    "API_KEY = 'xxxx'\n",
    "BASE_URL = \"https://api.spoonacular.com/\"\n",
    "params = {'apiKey': API_KEY}"
   ]
  },
  {
   "cell_type": "markdown",
   "id": "be58ff16",
   "metadata": {},
   "source": [
    "#### Detect food in text\n",
    "The text is the concatenation of all the categories predicted in one image.\n",
    "<br>\n",
    "The concatenation is a string, that will be given to the API to extract food items.\n",
    "<br>\n",
    "This food items will be given to the API (other endpoint) to get nutrition facts."
   ]
  },
  {
   "cell_type": "code",
   "execution_count": 9,
   "id": "276542be",
   "metadata": {},
   "outputs": [],
   "source": [
    "text = preprocessing(categories)"
   ]
  },
  {
   "cell_type": "code",
   "execution_count": 10,
   "id": "eeefa1c0",
   "metadata": {},
   "outputs": [],
   "source": [
    "endpoint = \"food/detect\"\n",
    "url_query = {\"text\":text}"
   ]
  },
  {
   "cell_type": "code",
   "execution_count": 11,
   "id": "d70af0dd",
   "metadata": {},
   "outputs": [],
   "source": [
    "response_item = requests.post(BASE_URL+endpoint, data=url_query, params=params)"
   ]
  },
  {
   "cell_type": "code",
   "execution_count": 12,
   "id": "b999463d",
   "metadata": {},
   "outputs": [],
   "source": [
    "item_json = response_item.json()"
   ]
  },
  {
   "cell_type": "code",
   "execution_count": 13,
   "id": "5e4d3f48",
   "metadata": {
    "scrolled": true
   },
   "outputs": [
    {
     "data": {
      "text/plain": [
       "{'annotations': [{'annotation': 'butter',\n",
       "   'tag': 'ingredient',\n",
       "   'image': 'https://spoonacular.com/cdn/ingredients_100x100/butter-sliced.jpg'},\n",
       "  {'annotation': 'bread',\n",
       "   'tag': 'ingredient',\n",
       "   'image': 'https://spoonacular.com/cdn/ingredients_100x100/white-bread.jpg'}],\n",
       " 'processedInMs': 10}"
      ]
     },
     "execution_count": 13,
     "metadata": {},
     "output_type": "execute_result"
    }
   ],
   "source": [
    "item_json"
   ]
  },
  {
   "cell_type": "code",
   "execution_count": 14,
   "id": "f3bfd4e2",
   "metadata": {},
   "outputs": [
    {
     "data": {
      "text/plain": [
       "['butter', 'bread']"
      ]
     },
     "execution_count": 14,
     "metadata": {},
     "output_type": "execute_result"
    }
   ],
   "source": [
    "item_lst = []\n",
    "\n",
    "for i in range(len(item_json['annotations'])):\n",
    "    item_lst.append(item_json['annotations'][i]['annotation'])\n",
    "\n",
    "item_lst"
   ]
  },
  {
   "cell_type": "markdown",
   "id": "3336e83e",
   "metadata": {},
   "source": [
    "#### Get food information from API call"
   ]
  },
  {
   "cell_type": "code",
   "execution_count": 15,
   "id": "2d6f0d0b",
   "metadata": {},
   "outputs": [],
   "source": [
    "lst_info = []\n",
    "endpoint = \"recipes/parseIngredients\"\n",
    "\n",
    "for i in range(len(item_lst)):\n",
    "    ingredientList=item_lst[i]\n",
    "    servings=1\n",
    "    includeNutrition=True\n",
    "    url_query = {\"ingredientList\": ingredientList, \"servings\": servings,\"includeNutrition\": includeNutrition}\n",
    "    response_info = requests.post(BASE_URL+endpoint, data=url_query, params=params)\n",
    "    lst_info.append(response_info.json()[0])"
   ]
  },
  {
   "cell_type": "markdown",
   "id": "05717d10",
   "metadata": {},
   "source": [
    "#### Get nutrition dataset"
   ]
  },
  {
   "cell_type": "code",
   "execution_count": 16,
   "id": "eb527fa9",
   "metadata": {},
   "outputs": [],
   "source": [
    "list_nut_fact = ['sodium','Saturated Fat','Carbohydrates','Fiber','Calories','Cholesterol']\n",
    "#nut = json[0]['nutrition']['nutrients']\n",
    "#df_nut = pd.DataFrame()\n",
    "\n",
    "def get_nutrition(nut_key:list,nut_info:list)->pd.core.frame.DataFrame:\n",
    "    \n",
    "    \"\"\"\n",
    "    The input is a list of string containing nutritional fact wanted (nut_key).\n",
    "    With the list of dictionary containing food information from the API call (nut_info).\n",
    "    \n",
    "    The output is a dataframe containing nutrition fact for a food category.\n",
    "    \"\"\"\n",
    "    \n",
    "    df_nut = pd.DataFrame()\n",
    "    lst_nut = []\n",
    "    dicts = {}\n",
    "    list_nut_fact = [name.lower() for name in nut_key]\n",
    "    \n",
    "    for i in range(len(lst_info)):\n",
    "        \n",
    "        dicts['name'] = nut_info[i]['name']\n",
    "        dicts['amount'] = nut_info[i]['nutrition']['weightPerServing']['amount']\n",
    "        dicts['unit'] = nut_info[i]['nutrition']['weightPerServing']['unit']\n",
    "        \n",
    "        nut = nut_info[i]['nutrition']['nutrients']\n",
    "        for j in range(len(nut)):\n",
    "            if nut_info[i]['nutrition']['nutrients'][j]['name'].lower() in list_nut_fact:\n",
    "                dicts[nut_info[i]['nutrition']['nutrients'][j]['name'].lower()+'_amount'] = nut_info[i]['nutrition']['nutrients'][j]['amount']\n",
    "                dicts[nut_info[i]['nutrition']['nutrients'][j]['name'].lower()+'unit'] = nut_info[i]['nutrition']['nutrients'][j]['unit']\n",
    "                \n",
    "        lst_nut.append(dicts)\n",
    "        dicts={}\n",
    "        \n",
    "    \n",
    "    df_nut = pd.DataFrame(lst_nut)\n",
    "                \n",
    "    return df_nut"
   ]
  },
  {
   "cell_type": "code",
   "execution_count": 17,
   "id": "8e23b688",
   "metadata": {},
   "outputs": [
    {
     "data": {
      "text/html": [
       "<div>\n",
       "<style scoped>\n",
       "    .dataframe tbody tr th:only-of-type {\n",
       "        vertical-align: middle;\n",
       "    }\n",
       "\n",
       "    .dataframe tbody tr th {\n",
       "        vertical-align: top;\n",
       "    }\n",
       "\n",
       "    .dataframe thead th {\n",
       "        text-align: right;\n",
       "    }\n",
       "</style>\n",
       "<table border=\"1\" class=\"dataframe\">\n",
       "  <thead>\n",
       "    <tr style=\"text-align: right;\">\n",
       "      <th></th>\n",
       "      <th>name</th>\n",
       "      <th>amount</th>\n",
       "      <th>unit</th>\n",
       "      <th>sodium_amount</th>\n",
       "      <th>sodiumunit</th>\n",
       "      <th>saturated fat_amount</th>\n",
       "      <th>saturated fatunit</th>\n",
       "      <th>carbohydrates_amount</th>\n",
       "      <th>carbohydratesunit</th>\n",
       "      <th>fiber_amount</th>\n",
       "      <th>fiberunit</th>\n",
       "      <th>calories_amount</th>\n",
       "      <th>caloriesunit</th>\n",
       "      <th>cholesterol_amount</th>\n",
       "      <th>cholesterolunit</th>\n",
       "    </tr>\n",
       "  </thead>\n",
       "  <tbody>\n",
       "    <tr>\n",
       "      <th>0</th>\n",
       "      <td>butter</td>\n",
       "      <td>5</td>\n",
       "      <td>g</td>\n",
       "      <td>32.15</td>\n",
       "      <td>mg</td>\n",
       "      <td>2.57</td>\n",
       "      <td>g</td>\n",
       "      <td>0.0</td>\n",
       "      <td>g</td>\n",
       "      <td>0.00</td>\n",
       "      <td>g</td>\n",
       "      <td>35.85</td>\n",
       "      <td>kcal</td>\n",
       "      <td>10.75</td>\n",
       "      <td>mg</td>\n",
       "    </tr>\n",
       "    <tr>\n",
       "      <th>1</th>\n",
       "      <td>bread</td>\n",
       "      <td>28</td>\n",
       "      <td>g</td>\n",
       "      <td>132.44</td>\n",
       "      <td>mg</td>\n",
       "      <td>0.20</td>\n",
       "      <td>g</td>\n",
       "      <td>13.3</td>\n",
       "      <td>g</td>\n",
       "      <td>1.12</td>\n",
       "      <td>g</td>\n",
       "      <td>76.72</td>\n",
       "      <td>kcal</td>\n",
       "      <td>0.00</td>\n",
       "      <td>mg</td>\n",
       "    </tr>\n",
       "  </tbody>\n",
       "</table>\n",
       "</div>"
      ],
      "text/plain": [
       "     name  amount unit  sodium_amount sodiumunit  saturated fat_amount  \\\n",
       "0  butter       5    g          32.15         mg                  2.57   \n",
       "1   bread      28    g         132.44         mg                  0.20   \n",
       "\n",
       "  saturated fatunit  carbohydrates_amount carbohydratesunit  fiber_amount  \\\n",
       "0                 g                   0.0                 g          0.00   \n",
       "1                 g                  13.3                 g          1.12   \n",
       "\n",
       "  fiberunit  calories_amount caloriesunit  cholesterol_amount cholesterolunit  \n",
       "0         g            35.85         kcal               10.75              mg  \n",
       "1         g            76.72         kcal                0.00              mg  "
      ]
     },
     "execution_count": 17,
     "metadata": {},
     "output_type": "execute_result"
    }
   ],
   "source": [
    "get_nutrition(list_nut_fact,lst_info)"
   ]
  }
 ],
 "metadata": {
  "kernelspec": {
   "display_name": "Python 3 (ipykernel)",
   "language": "python",
   "name": "python3"
  },
  "language_info": {
   "codemirror_mode": {
    "name": "ipython",
    "version": 3
   },
   "file_extension": ".py",
   "mimetype": "text/x-python",
   "name": "python",
   "nbconvert_exporter": "python",
   "pygments_lexer": "ipython3",
   "version": "3.8.12 (default, Jul 16 2022, 12:25:34) \n[Clang 13.0.0 (clang-1300.0.27.3)]"
  },
  "toc": {
   "base_numbering": 1,
   "nav_menu": {},
   "number_sections": true,
   "sideBar": true,
   "skip_h1_title": false,
   "title_cell": "Table of Contents",
   "title_sidebar": "Contents",
   "toc_cell": false,
   "toc_position": {
    "height": "calc(100% - 180px)",
    "left": "10px",
    "top": "150px",
    "width": "227px"
   },
   "toc_section_display": true,
   "toc_window_display": false
  },
  "vscode": {
   "interpreter": {
    "hash": "1508fd46d236c0e0701399f55c357b9c44d12ebbd2849ae30894200e2b09f0ac"
   }
  }
 },
 "nbformat": 4,
 "nbformat_minor": 5
}
